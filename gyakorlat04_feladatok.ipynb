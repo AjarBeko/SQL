{
    "metadata": {
        "kernelspec": {
            "name": "SQL",
            "display_name": "SQL",
            "language": "sql"
        },
        "language_info": {
            "name": "sql",
            "version": ""
        }
    },
    "nbformat_minor": 2,
    "nbformat": 4,
    "cells": [
        {
            "cell_type": "markdown",
            "source": [
                "1. <span style=\"background-color: rgb(255, 255, 255); color: rgb(0, 0, 0); font-family: &quot;Open Sans&quot;, sans-serif; font-size: 14.44px;\">Készítsünk listát arról, hogy ügyfelenként (LOGIN), azon belül szállítási módonként hány megrendelés történt!&nbsp;</span> \n",
                "\n",
                "a. A lista tartalmazza a részösszegeket és a végösszeget is!  \n",
                "b. Használjuk a ROLLUP záradékot!"
            ],
            "metadata": {
                "azdata_cell_guid": "363cd270-6577-449b-9c89-d4b7c7972d52"
            },
            "attachments": {}
        },
        {
            "cell_type": "code",
            "source": [
                "select  [login],\r\n",
                "        SZALL_MOD,\r\n",
                "        count(*)\r\n",
                "from Rendeles\r\n",
                "group by CUBE([LOGIN], SZALL_MOD)\r\n",
                "\r\n",
                "-- ROLLUP a lista kibővül részösszegekkel és végösszeggel\r\n",
                "-- CUBE minden irányba készít részösszegeket"
            ],
            "metadata": {
                "azdata_cell_guid": "6ab9f633-a3b5-48c9-a1dc-4fb8235ae85b",
                "language": "sql",
                "tags": [
                    "hide_input"
                ]
            },
            "outputs": [],
            "execution_count": null
        },
        {
            "cell_type": "markdown",
            "source": [
                "2. <span style=\"background-color: rgb(255, 255, 255); color: rgb(0, 0, 0); font-family: &quot;Open Sans&quot;, sans-serif; font-size: 14.44px;\">Készítsünk listát a termékek számáról a következő csoportosítási szempontok szerint:<br>kategória azonosító, raktárkód, raktárkód+mennyiségi egység!</span>\n",
                "\n",
                "a. A listát szűrjük azokra a csoportokra, ahol a termékek száma legalább 6!"
            ],
            "metadata": {
                "azdata_cell_guid": "ea75c103-911f-41a3-a32c-3d40fb3e4e4a"
            },
            "attachments": {}
        },
        {
            "cell_type": "code",
            "source": [
                "select  KAT_ID,\r\n",
                "        RAKTAR_KOD,\r\n",
                "        MEGYS,\r\n",
                "        count(*)\r\n",
                "from termek\r\n",
                "group by GROUPING SETS (KAT_ID, RAKTAR_KOD, (RAKTAR_KOD, MEGYS))\r\n",
                "--GROUPING SETS: annyi csoportosítási szempontot adok meg ahányat akarok. Két szempont után zárójelbe kell tenni a következőket"
            ],
            "metadata": {
                "azdata_cell_guid": "222b9618-a8e8-42b4-a8e8-d002257122b7",
                "language": "sql"
            },
            "outputs": [],
            "execution_count": null
        },
        {
            "cell_type": "markdown",
            "source": [
                "```\n",
                "3. Készítsünk listát az egyes termékkategóriákban lévő termékek számáról! \n",
                "\n",
                "```\n",
                "\n",
                "a. Elég megjeleníteni a kategóriák azonosítóit és a darabszámokat!   \n",
                "<span style=\"color: var(--vscode-foreground);\">b. A lista megfelelően jelölve tartalmazza a végösszeget is!&nbsp;<br></span> <span style=\"color: var(--vscode-foreground);\">c. Az oszlopokat nevezzük el értelemszerűen!&nbsp;<br></span> <span style=\"color: var(--vscode-foreground);\">d. A listát rendezzük a darabszám szerint növekvő sorrendbe!</span>\n",
                "\n",
                "  \n",
                "\n",
                "![](https://moodle.uni-corvinus.hu/theme/image.php/adaptable/atto_h5p/1709548862/icon)"
            ],
            "metadata": {
                "azdata_cell_guid": "d7876bb9-76d0-4d07-baed-3cb17b2f96c3"
            },
            "attachments": {}
        },
        {
            "cell_type": "code",
            "source": [
                "select  KAT_ID,\r\n",
                "        IIF(GROUPING_ID(KAT_ID)=1, 'Összesen', CAST(KAT_ID as NVARCHAR(10))),\r\n",
                "        count(*) as 'Darab'\r\n",
                "\r\n",
                "from Termek\r\n",
                "group by ROLLUP(KAT_ID)\r\n",
                "order by count(*)"
            ],
            "metadata": {
                "azdata_cell_guid": "56ec19ce-e249-4551-b2a8-f17569765acc",
                "language": "sql"
            },
            "outputs": [
                {
                    "output_type": "display_data",
                    "data": {
                        "text/html": "(144 rows affected)"
                    },
                    "metadata": {}
                },
                {
                    "output_type": "display_data",
                    "data": {
                        "text/html": "Total execution time: 00:00:00.304"
                    },
                    "metadata": {}
                },
                {
                    "output_type": "execute_result",
                    "execution_count": 6,
                    "data": {
                        "application/vnd.dataresource+json": {
                            "schema": {
                                "fields": [
                                    {
                                        "name": "KAT_ID"
                                    },
                                    {
                                        "name": "(No column name)"
                                    },
                                    {
                                        "name": "Darab"
                                    }
                                ]
                            },
                            "data": [
                                {
                                    "KAT_ID": "10",
                                    "(No column name)": "10",
                                    "Darab": "1"
                                },
                                {
                                    "KAT_ID": "11",
                                    "(No column name)": "11",
                                    "Darab": "1"
                                },
                                {
                                    "KAT_ID": "12",
                                    "(No column name)": "12",
                                    "Darab": "1"
                                },
                                {
                                    "KAT_ID": "15",
                                    "(No column name)": "15",
                                    "Darab": "1"
                                },
                                {
                                    "KAT_ID": "17",
                                    "(No column name)": "17",
                                    "Darab": "1"
                                },
                                {
                                    "KAT_ID": "26",
                                    "(No column name)": "26",
                                    "Darab": "1"
                                },
                                {
                                    "KAT_ID": "29",
                                    "(No column name)": "29",
                                    "Darab": "1"
                                },
                                {
                                    "KAT_ID": "31",
                                    "(No column name)": "31",
                                    "Darab": "1"
                                },
                                {
                                    "KAT_ID": "33",
                                    "(No column name)": "33",
                                    "Darab": "1"
                                },
                                {
                                    "KAT_ID": "34",
                                    "(No column name)": "34",
                                    "Darab": "1"
                                },
                                {
                                    "KAT_ID": "37",
                                    "(No column name)": "37",
                                    "Darab": "1"
                                },
                                {
                                    "KAT_ID": "38",
                                    "(No column name)": "38",
                                    "Darab": "1"
                                },
                                {
                                    "KAT_ID": "40",
                                    "(No column name)": "40",
                                    "Darab": "1"
                                },
                                {
                                    "KAT_ID": "42",
                                    "(No column name)": "42",
                                    "Darab": "1"
                                },
                                {
                                    "KAT_ID": "44",
                                    "(No column name)": "44",
                                    "Darab": "1"
                                },
                                {
                                    "KAT_ID": "50",
                                    "(No column name)": "50",
                                    "Darab": "1"
                                },
                                {
                                    "KAT_ID": "53",
                                    "(No column name)": "53",
                                    "Darab": "1"
                                },
                                {
                                    "KAT_ID": "61",
                                    "(No column name)": "61",
                                    "Darab": "1"
                                },
                                {
                                    "KAT_ID": "74",
                                    "(No column name)": "74",
                                    "Darab": "1"
                                },
                                {
                                    "KAT_ID": "80",
                                    "(No column name)": "80",
                                    "Darab": "1"
                                },
                                {
                                    "KAT_ID": "82",
                                    "(No column name)": "82",
                                    "Darab": "1"
                                },
                                {
                                    "KAT_ID": "84",
                                    "(No column name)": "84",
                                    "Darab": "1"
                                },
                                {
                                    "KAT_ID": "86",
                                    "(No column name)": "86",
                                    "Darab": "1"
                                },
                                {
                                    "KAT_ID": "99",
                                    "(No column name)": "99",
                                    "Darab": "1"
                                },
                                {
                                    "KAT_ID": "101",
                                    "(No column name)": "101",
                                    "Darab": "1"
                                },
                                {
                                    "KAT_ID": "103",
                                    "(No column name)": "103",
                                    "Darab": "1"
                                },
                                {
                                    "KAT_ID": "105",
                                    "(No column name)": "105",
                                    "Darab": "1"
                                },
                                {
                                    "KAT_ID": "107",
                                    "(No column name)": "107",
                                    "Darab": "1"
                                },
                                {
                                    "KAT_ID": "108",
                                    "(No column name)": "108",
                                    "Darab": "1"
                                },
                                {
                                    "KAT_ID": "109",
                                    "(No column name)": "109",
                                    "Darab": "1"
                                },
                                {
                                    "KAT_ID": "114",
                                    "(No column name)": "114",
                                    "Darab": "1"
                                },
                                {
                                    "KAT_ID": "115",
                                    "(No column name)": "115",
                                    "Darab": "1"
                                },
                                {
                                    "KAT_ID": "126",
                                    "(No column name)": "126",
                                    "Darab": "1"
                                },
                                {
                                    "KAT_ID": "130",
                                    "(No column name)": "130",
                                    "Darab": "1"
                                },
                                {
                                    "KAT_ID": "131",
                                    "(No column name)": "131",
                                    "Darab": "1"
                                },
                                {
                                    "KAT_ID": "132",
                                    "(No column name)": "132",
                                    "Darab": "1"
                                },
                                {
                                    "KAT_ID": "135",
                                    "(No column name)": "135",
                                    "Darab": "1"
                                },
                                {
                                    "KAT_ID": "139",
                                    "(No column name)": "139",
                                    "Darab": "1"
                                },
                                {
                                    "KAT_ID": "140",
                                    "(No column name)": "140",
                                    "Darab": "1"
                                },
                                {
                                    "KAT_ID": "142",
                                    "(No column name)": "142",
                                    "Darab": "1"
                                },
                                {
                                    "KAT_ID": "147",
                                    "(No column name)": "147",
                                    "Darab": "1"
                                },
                                {
                                    "KAT_ID": "148",
                                    "(No column name)": "148",
                                    "Darab": "1"
                                },
                                {
                                    "KAT_ID": "153",
                                    "(No column name)": "153",
                                    "Darab": "1"
                                },
                                {
                                    "KAT_ID": "155",
                                    "(No column name)": "155",
                                    "Darab": "1"
                                },
                                {
                                    "KAT_ID": "150",
                                    "(No column name)": "150",
                                    "Darab": "2"
                                },
                                {
                                    "KAT_ID": "144",
                                    "(No column name)": "144",
                                    "Darab": "2"
                                },
                                {
                                    "KAT_ID": "141",
                                    "(No column name)": "141",
                                    "Darab": "2"
                                },
                                {
                                    "KAT_ID": "136",
                                    "(No column name)": "136",
                                    "Darab": "2"
                                },
                                {
                                    "KAT_ID": "123",
                                    "(No column name)": "123",
                                    "Darab": "2"
                                },
                                {
                                    "KAT_ID": "134",
                                    "(No column name)": "134",
                                    "Darab": "2"
                                },
                                {
                                    "KAT_ID": "127",
                                    "(No column name)": "127",
                                    "Darab": "2"
                                },
                                {
                                    "KAT_ID": "128",
                                    "(No column name)": "128",
                                    "Darab": "2"
                                },
                                {
                                    "KAT_ID": "129",
                                    "(No column name)": "129",
                                    "Darab": "2"
                                },
                                {
                                    "KAT_ID": "116",
                                    "(No column name)": "116",
                                    "Darab": "2"
                                },
                                {
                                    "KAT_ID": "117",
                                    "(No column name)": "117",
                                    "Darab": "2"
                                },
                                {
                                    "KAT_ID": "112",
                                    "(No column name)": "112",
                                    "Darab": "2"
                                },
                                {
                                    "KAT_ID": "121",
                                    "(No column name)": "121",
                                    "Darab": "2"
                                },
                                {
                                    "KAT_ID": "110",
                                    "(No column name)": "110",
                                    "Darab": "2"
                                },
                                {
                                    "KAT_ID": "104",
                                    "(No column name)": "104",
                                    "Darab": "2"
                                },
                                {
                                    "KAT_ID": "94",
                                    "(No column name)": "94",
                                    "Darab": "2"
                                },
                                {
                                    "KAT_ID": "95",
                                    "(No column name)": "95",
                                    "Darab": "2"
                                },
                                {
                                    "KAT_ID": "88",
                                    "(No column name)": "88",
                                    "Darab": "2"
                                },
                                {
                                    "KAT_ID": "90",
                                    "(No column name)": "90",
                                    "Darab": "2"
                                },
                                {
                                    "KAT_ID": "92",
                                    "(No column name)": "92",
                                    "Darab": "2"
                                },
                                {
                                    "KAT_ID": "71",
                                    "(No column name)": "71",
                                    "Darab": "2"
                                },
                                {
                                    "KAT_ID": "72",
                                    "(No column name)": "72",
                                    "Darab": "2"
                                },
                                {
                                    "KAT_ID": "73",
                                    "(No column name)": "73",
                                    "Darab": "2"
                                },
                                {
                                    "KAT_ID": "75",
                                    "(No column name)": "75",
                                    "Darab": "2"
                                },
                                {
                                    "KAT_ID": "62",
                                    "(No column name)": "62",
                                    "Darab": "2"
                                },
                                {
                                    "KAT_ID": "55",
                                    "(No column name)": "55",
                                    "Darab": "2"
                                },
                                {
                                    "KAT_ID": "65",
                                    "(No column name)": "65",
                                    "Darab": "2"
                                },
                                {
                                    "KAT_ID": "67",
                                    "(No column name)": "67",
                                    "Darab": "2"
                                },
                                {
                                    "KAT_ID": "68",
                                    "(No column name)": "68",
                                    "Darab": "2"
                                },
                                {
                                    "KAT_ID": "57",
                                    "(No column name)": "57",
                                    "Darab": "2"
                                },
                                {
                                    "KAT_ID": "48",
                                    "(No column name)": "48",
                                    "Darab": "2"
                                },
                                {
                                    "KAT_ID": "49",
                                    "(No column name)": "49",
                                    "Darab": "2"
                                },
                                {
                                    "KAT_ID": "39",
                                    "(No column name)": "39",
                                    "Darab": "2"
                                },
                                {
                                    "KAT_ID": "22",
                                    "(No column name)": "22",
                                    "Darab": "2"
                                },
                                {
                                    "KAT_ID": "18",
                                    "(No column name)": "18",
                                    "Darab": "2"
                                },
                                {
                                    "KAT_ID": "9",
                                    "(No column name)": "9",
                                    "Darab": "2"
                                },
                                {
                                    "KAT_ID": "13",
                                    "(No column name)": "13",
                                    "Darab": "2"
                                },
                                {
                                    "KAT_ID": "5",
                                    "(No column name)": "5",
                                    "Darab": "3"
                                },
                                {
                                    "KAT_ID": "7",
                                    "(No column name)": "7",
                                    "Darab": "3"
                                },
                                {
                                    "KAT_ID": "8",
                                    "(No column name)": "8",
                                    "Darab": "3"
                                },
                                {
                                    "KAT_ID": "20",
                                    "(No column name)": "20",
                                    "Darab": "3"
                                },
                                {
                                    "KAT_ID": "27",
                                    "(No column name)": "27",
                                    "Darab": "3"
                                },
                                {
                                    "KAT_ID": "32",
                                    "(No column name)": "32",
                                    "Darab": "3"
                                },
                                {
                                    "KAT_ID": "43",
                                    "(No column name)": "43",
                                    "Darab": "3"
                                },
                                {
                                    "KAT_ID": "58",
                                    "(No column name)": "58",
                                    "Darab": "3"
                                },
                                {
                                    "KAT_ID": "51",
                                    "(No column name)": "51",
                                    "Darab": "3"
                                },
                                {
                                    "KAT_ID": "70",
                                    "(No column name)": "70",
                                    "Darab": "3"
                                },
                                {
                                    "KAT_ID": "89",
                                    "(No column name)": "89",
                                    "Darab": "3"
                                },
                                {
                                    "KAT_ID": "111",
                                    "(No column name)": "111",
                                    "Darab": "3"
                                },
                                {
                                    "KAT_ID": "119",
                                    "(No column name)": "119",
                                    "Darab": "3"
                                },
                                {
                                    "KAT_ID": "137",
                                    "(No column name)": "137",
                                    "Darab": "3"
                                },
                                {
                                    "KAT_ID": "143",
                                    "(No column name)": "143",
                                    "Darab": "3"
                                },
                                {
                                    "KAT_ID": "151",
                                    "(No column name)": "151",
                                    "Darab": "4"
                                },
                                {
                                    "KAT_ID": "154",
                                    "(No column name)": "154",
                                    "Darab": "4"
                                },
                                {
                                    "KAT_ID": "125",
                                    "(No column name)": "125",
                                    "Darab": "4"
                                },
                                {
                                    "KAT_ID": "79",
                                    "(No column name)": "79",
                                    "Darab": "4"
                                },
                                {
                                    "KAT_ID": "98",
                                    "(No column name)": "98",
                                    "Darab": "4"
                                },
                                {
                                    "KAT_ID": "56",
                                    "(No column name)": "56",
                                    "Darab": "4"
                                },
                                {
                                    "KAT_ID": "64",
                                    "(No column name)": "64",
                                    "Darab": "4"
                                },
                                {
                                    "KAT_ID": "59",
                                    "(No column name)": "59",
                                    "Darab": "4"
                                },
                                {
                                    "KAT_ID": "47",
                                    "(No column name)": "47",
                                    "Darab": "4"
                                },
                                {
                                    "KAT_ID": "25",
                                    "(No column name)": "25",
                                    "Darab": "4"
                                },
                                {
                                    "KAT_ID": "14",
                                    "(No column name)": "14",
                                    "Darab": "4"
                                },
                                {
                                    "KAT_ID": "21",
                                    "(No column name)": "21",
                                    "Darab": "5"
                                },
                                {
                                    "KAT_ID": "36",
                                    "(No column name)": "36",
                                    "Darab": "5"
                                },
                                {
                                    "KAT_ID": "28",
                                    "(No column name)": "28",
                                    "Darab": "5"
                                },
                                {
                                    "KAT_ID": "60",
                                    "(No column name)": "60",
                                    "Darab": "5"
                                },
                                {
                                    "KAT_ID": "76",
                                    "(No column name)": "76",
                                    "Darab": "5"
                                },
                                {
                                    "KAT_ID": "106",
                                    "(No column name)": "106",
                                    "Darab": "5"
                                },
                                {
                                    "KAT_ID": "138",
                                    "(No column name)": "138",
                                    "Darab": "5"
                                },
                                {
                                    "KAT_ID": "133",
                                    "(No column name)": "133",
                                    "Darab": "6"
                                },
                                {
                                    "KAT_ID": "152",
                                    "(No column name)": "152",
                                    "Darab": "6"
                                },
                                {
                                    "KAT_ID": "149",
                                    "(No column name)": "149",
                                    "Darab": "6"
                                },
                                {
                                    "KAT_ID": "83",
                                    "(No column name)": "83",
                                    "Darab": "6"
                                },
                                {
                                    "KAT_ID": "54",
                                    "(No column name)": "54",
                                    "Darab": "6"
                                },
                                {
                                    "KAT_ID": "46",
                                    "(No column name)": "46",
                                    "Darab": "7"
                                },
                                {
                                    "KAT_ID": "66",
                                    "(No column name)": "66",
                                    "Darab": "7"
                                },
                                {
                                    "KAT_ID": "24",
                                    "(No column name)": "24",
                                    "Darab": "7"
                                },
                                {
                                    "KAT_ID": "30",
                                    "(No column name)": "30",
                                    "Darab": "7"
                                },
                                {
                                    "KAT_ID": "35",
                                    "(No column name)": "35",
                                    "Darab": "7"
                                },
                                {
                                    "KAT_ID": "16",
                                    "(No column name)": "16",
                                    "Darab": "7"
                                },
                                {
                                    "KAT_ID": "146",
                                    "(No column name)": "146",
                                    "Darab": "7"
                                },
                                {
                                    "KAT_ID": "122",
                                    "(No column name)": "122",
                                    "Darab": "7"
                                },
                                {
                                    "KAT_ID": "93",
                                    "(No column name)": "93",
                                    "Darab": "7"
                                },
                                {
                                    "KAT_ID": "91",
                                    "(No column name)": "91",
                                    "Darab": "7"
                                },
                                {
                                    "KAT_ID": "100",
                                    "(No column name)": "100",
                                    "Darab": "9"
                                },
                                {
                                    "KAT_ID": "96",
                                    "(No column name)": "96",
                                    "Darab": "9"
                                },
                                {
                                    "KAT_ID": "118",
                                    "(No column name)": "118",
                                    "Darab": "9"
                                },
                                {
                                    "KAT_ID": "97",
                                    "(No column name)": "97",
                                    "Darab": "10"
                                },
                                {
                                    "KAT_ID": "124",
                                    "(No column name)": "124",
                                    "Darab": "10"
                                },
                                {
                                    "KAT_ID": "45",
                                    "(No column name)": "45",
                                    "Darab": "11"
                                },
                                {
                                    "KAT_ID": "41",
                                    "(No column name)": "41",
                                    "Darab": "13"
                                },
                                {
                                    "KAT_ID": "4",
                                    "(No column name)": "4",
                                    "Darab": "15"
                                },
                                {
                                    "KAT_ID": "85",
                                    "(No column name)": "85",
                                    "Darab": "16"
                                },
                                {
                                    "KAT_ID": "145",
                                    "(No column name)": "145",
                                    "Darab": "18"
                                },
                                {
                                    "KAT_ID": "19",
                                    "(No column name)": "19",
                                    "Darab": "19"
                                },
                                {
                                    "KAT_ID": "6",
                                    "(No column name)": "6",
                                    "Darab": "20"
                                },
                                {
                                    "KAT_ID": "78",
                                    "(No column name)": "78",
                                    "Darab": "24"
                                },
                                {
                                    "KAT_ID": "52",
                                    "(No column name)": "52",
                                    "Darab": "26"
                                },
                                {
                                    "KAT_ID": "NULL",
                                    "(No column name)": "Összesen",
                                    "Darab": "551"
                                }
                            ]
                        },
                        "text/html": "<table><tr><th>KAT_ID</th><th>(No column name)</th><th>Darab</th></tr><tr><td>10</td><td>10</td><td>1</td></tr><tr><td>11</td><td>11</td><td>1</td></tr><tr><td>12</td><td>12</td><td>1</td></tr><tr><td>15</td><td>15</td><td>1</td></tr><tr><td>17</td><td>17</td><td>1</td></tr><tr><td>26</td><td>26</td><td>1</td></tr><tr><td>29</td><td>29</td><td>1</td></tr><tr><td>31</td><td>31</td><td>1</td></tr><tr><td>33</td><td>33</td><td>1</td></tr><tr><td>34</td><td>34</td><td>1</td></tr><tr><td>37</td><td>37</td><td>1</td></tr><tr><td>38</td><td>38</td><td>1</td></tr><tr><td>40</td><td>40</td><td>1</td></tr><tr><td>42</td><td>42</td><td>1</td></tr><tr><td>44</td><td>44</td><td>1</td></tr><tr><td>50</td><td>50</td><td>1</td></tr><tr><td>53</td><td>53</td><td>1</td></tr><tr><td>61</td><td>61</td><td>1</td></tr><tr><td>74</td><td>74</td><td>1</td></tr><tr><td>80</td><td>80</td><td>1</td></tr><tr><td>82</td><td>82</td><td>1</td></tr><tr><td>84</td><td>84</td><td>1</td></tr><tr><td>86</td><td>86</td><td>1</td></tr><tr><td>99</td><td>99</td><td>1</td></tr><tr><td>101</td><td>101</td><td>1</td></tr><tr><td>103</td><td>103</td><td>1</td></tr><tr><td>105</td><td>105</td><td>1</td></tr><tr><td>107</td><td>107</td><td>1</td></tr><tr><td>108</td><td>108</td><td>1</td></tr><tr><td>109</td><td>109</td><td>1</td></tr><tr><td>114</td><td>114</td><td>1</td></tr><tr><td>115</td><td>115</td><td>1</td></tr><tr><td>126</td><td>126</td><td>1</td></tr><tr><td>130</td><td>130</td><td>1</td></tr><tr><td>131</td><td>131</td><td>1</td></tr><tr><td>132</td><td>132</td><td>1</td></tr><tr><td>135</td><td>135</td><td>1</td></tr><tr><td>139</td><td>139</td><td>1</td></tr><tr><td>140</td><td>140</td><td>1</td></tr><tr><td>142</td><td>142</td><td>1</td></tr><tr><td>147</td><td>147</td><td>1</td></tr><tr><td>148</td><td>148</td><td>1</td></tr><tr><td>153</td><td>153</td><td>1</td></tr><tr><td>155</td><td>155</td><td>1</td></tr><tr><td>150</td><td>150</td><td>2</td></tr><tr><td>144</td><td>144</td><td>2</td></tr><tr><td>141</td><td>141</td><td>2</td></tr><tr><td>136</td><td>136</td><td>2</td></tr><tr><td>123</td><td>123</td><td>2</td></tr><tr><td>134</td><td>134</td><td>2</td></tr><tr><td>127</td><td>127</td><td>2</td></tr><tr><td>128</td><td>128</td><td>2</td></tr><tr><td>129</td><td>129</td><td>2</td></tr><tr><td>116</td><td>116</td><td>2</td></tr><tr><td>117</td><td>117</td><td>2</td></tr><tr><td>112</td><td>112</td><td>2</td></tr><tr><td>121</td><td>121</td><td>2</td></tr><tr><td>110</td><td>110</td><td>2</td></tr><tr><td>104</td><td>104</td><td>2</td></tr><tr><td>94</td><td>94</td><td>2</td></tr><tr><td>95</td><td>95</td><td>2</td></tr><tr><td>88</td><td>88</td><td>2</td></tr><tr><td>90</td><td>90</td><td>2</td></tr><tr><td>92</td><td>92</td><td>2</td></tr><tr><td>71</td><td>71</td><td>2</td></tr><tr><td>72</td><td>72</td><td>2</td></tr><tr><td>73</td><td>73</td><td>2</td></tr><tr><td>75</td><td>75</td><td>2</td></tr><tr><td>62</td><td>62</td><td>2</td></tr><tr><td>55</td><td>55</td><td>2</td></tr><tr><td>65</td><td>65</td><td>2</td></tr><tr><td>67</td><td>67</td><td>2</td></tr><tr><td>68</td><td>68</td><td>2</td></tr><tr><td>57</td><td>57</td><td>2</td></tr><tr><td>48</td><td>48</td><td>2</td></tr><tr><td>49</td><td>49</td><td>2</td></tr><tr><td>39</td><td>39</td><td>2</td></tr><tr><td>22</td><td>22</td><td>2</td></tr><tr><td>18</td><td>18</td><td>2</td></tr><tr><td>9</td><td>9</td><td>2</td></tr><tr><td>13</td><td>13</td><td>2</td></tr><tr><td>5</td><td>5</td><td>3</td></tr><tr><td>7</td><td>7</td><td>3</td></tr><tr><td>8</td><td>8</td><td>3</td></tr><tr><td>20</td><td>20</td><td>3</td></tr><tr><td>27</td><td>27</td><td>3</td></tr><tr><td>32</td><td>32</td><td>3</td></tr><tr><td>43</td><td>43</td><td>3</td></tr><tr><td>58</td><td>58</td><td>3</td></tr><tr><td>51</td><td>51</td><td>3</td></tr><tr><td>70</td><td>70</td><td>3</td></tr><tr><td>89</td><td>89</td><td>3</td></tr><tr><td>111</td><td>111</td><td>3</td></tr><tr><td>119</td><td>119</td><td>3</td></tr><tr><td>137</td><td>137</td><td>3</td></tr><tr><td>143</td><td>143</td><td>3</td></tr><tr><td>151</td><td>151</td><td>4</td></tr><tr><td>154</td><td>154</td><td>4</td></tr><tr><td>125</td><td>125</td><td>4</td></tr><tr><td>79</td><td>79</td><td>4</td></tr><tr><td>98</td><td>98</td><td>4</td></tr><tr><td>56</td><td>56</td><td>4</td></tr><tr><td>64</td><td>64</td><td>4</td></tr><tr><td>59</td><td>59</td><td>4</td></tr><tr><td>47</td><td>47</td><td>4</td></tr><tr><td>25</td><td>25</td><td>4</td></tr><tr><td>14</td><td>14</td><td>4</td></tr><tr><td>21</td><td>21</td><td>5</td></tr><tr><td>36</td><td>36</td><td>5</td></tr><tr><td>28</td><td>28</td><td>5</td></tr><tr><td>60</td><td>60</td><td>5</td></tr><tr><td>76</td><td>76</td><td>5</td></tr><tr><td>106</td><td>106</td><td>5</td></tr><tr><td>138</td><td>138</td><td>5</td></tr><tr><td>133</td><td>133</td><td>6</td></tr><tr><td>152</td><td>152</td><td>6</td></tr><tr><td>149</td><td>149</td><td>6</td></tr><tr><td>83</td><td>83</td><td>6</td></tr><tr><td>54</td><td>54</td><td>6</td></tr><tr><td>46</td><td>46</td><td>7</td></tr><tr><td>66</td><td>66</td><td>7</td></tr><tr><td>24</td><td>24</td><td>7</td></tr><tr><td>30</td><td>30</td><td>7</td></tr><tr><td>35</td><td>35</td><td>7</td></tr><tr><td>16</td><td>16</td><td>7</td></tr><tr><td>146</td><td>146</td><td>7</td></tr><tr><td>122</td><td>122</td><td>7</td></tr><tr><td>93</td><td>93</td><td>7</td></tr><tr><td>91</td><td>91</td><td>7</td></tr><tr><td>100</td><td>100</td><td>9</td></tr><tr><td>96</td><td>96</td><td>9</td></tr><tr><td>118</td><td>118</td><td>9</td></tr><tr><td>97</td><td>97</td><td>10</td></tr><tr><td>124</td><td>124</td><td>10</td></tr><tr><td>45</td><td>45</td><td>11</td></tr><tr><td>41</td><td>41</td><td>13</td></tr><tr><td>4</td><td>4</td><td>15</td></tr><tr><td>85</td><td>85</td><td>16</td></tr><tr><td>145</td><td>145</td><td>18</td></tr><tr><td>19</td><td>19</td><td>19</td></tr><tr><td>6</td><td>6</td><td>20</td></tr><tr><td>78</td><td>78</td><td>24</td></tr><tr><td>52</td><td>52</td><td>26</td></tr><tr><td>NULL</td><td>Összesen</td><td>551</td></tr></table>"
                    },
                    "metadata": {}
                }
            ],
            "execution_count": 6
        },
        {
            "cell_type": "markdown",
            "source": [
                "4. <span style=\"background-color: rgb(255, 255, 255); color: rgb(0, 0, 0); font-family: &quot;Open Sans&quot;, sans-serif; font-size: 14.44px;\">Készítsünk listát az ügyfelek számáról születési év szerint, azon belül nem szerinti bontásban!&nbsp;</span> \n",
                "\n",
                "a. A lista megfelelően jelölve tartalmazza a részösszegeket és a végösszeget is!  \n",
                "b. Az oszlopoknak adjunk nevet értelemszerűen!"
            ],
            "metadata": {
                "azdata_cell_guid": "8e7fef82-8022-49a0-8255-fc2846c2134b"
            },
            "attachments": {}
        },
        {
            "cell_type": "code",
            "source": [
                "Select iif(GROUPING_ID(SZULEV) = 1, 'Összesen', CAST(SZULEV as NVARCHAR(10))),\r\n",
                "        iif(GROUPING_ID(Ugyfel.NEM) = 1, 'Összesen', nem), \r\n",
                "        count(*) as 'ügyfelekszáma'\r\n",
                "from ugyfel\r\n",
                "GROUP by rollup (SZULEV, nem)"
            ],
            "metadata": {
                "azdata_cell_guid": "36f7b396-4a1f-45e5-8720-2302537c91bc",
                "language": "sql",
                "tags": []
            },
            "outputs": [
                {
                    "output_type": "display_data",
                    "data": {
                        "text/html": "(96 rows affected)"
                    },
                    "metadata": {}
                },
                {
                    "output_type": "display_data",
                    "data": {
                        "text/html": "Total execution time: 00:00:00.132"
                    },
                    "metadata": {}
                },
                {
                    "output_type": "execute_result",
                    "execution_count": 10,
                    "data": {
                        "application/vnd.dataresource+json": {
                            "schema": {
                                "fields": [
                                    {
                                        "name": "(No column name)"
                                    },
                                    {
                                        "name": "(No column name)"
                                    },
                                    {
                                        "name": "ügyfelekszáma"
                                    }
                                ]
                            },
                            "data": [
                                {
                                    "(No column name)": "F",
                                    "ügyfelekszáma": "5"
                                },
                                {
                                    "(No column name)": "N",
                                    "ügyfelekszáma": "3"
                                },
                                {
                                    "(No column name)": "Összesen",
                                    "ügyfelekszáma": "8"
                                },
                                {
                                    "(No column name)": "F",
                                    "ügyfelekszáma": "5"
                                },
                                {
                                    "(No column name)": "N",
                                    "ügyfelekszáma": "3"
                                },
                                {
                                    "(No column name)": "Összesen",
                                    "ügyfelekszáma": "8"
                                },
                                {
                                    "(No column name)": "F",
                                    "ügyfelekszáma": "5"
                                },
                                {
                                    "(No column name)": "N",
                                    "ügyfelekszáma": "3"
                                },
                                {
                                    "(No column name)": "Összesen",
                                    "ügyfelekszáma": "8"
                                },
                                {
                                    "(No column name)": "F",
                                    "ügyfelekszáma": "4"
                                },
                                {
                                    "(No column name)": "Összesen",
                                    "ügyfelekszáma": "4"
                                },
                                {
                                    "(No column name)": "F",
                                    "ügyfelekszáma": "2"
                                },
                                {
                                    "(No column name)": "N",
                                    "ügyfelekszáma": "3"
                                },
                                {
                                    "(No column name)": "Összesen",
                                    "ügyfelekszáma": "5"
                                },
                                {
                                    "(No column name)": "F",
                                    "ügyfelekszáma": "2"
                                },
                                {
                                    "(No column name)": "N",
                                    "ügyfelekszáma": "2"
                                },
                                {
                                    "(No column name)": "Összesen",
                                    "ügyfelekszáma": "4"
                                },
                                {
                                    "(No column name)": "F",
                                    "ügyfelekszáma": "2"
                                },
                                {
                                    "(No column name)": "N",
                                    "ügyfelekszáma": "2"
                                },
                                {
                                    "(No column name)": "Összesen",
                                    "ügyfelekszáma": "4"
                                },
                                {
                                    "(No column name)": "F",
                                    "ügyfelekszáma": "1"
                                },
                                {
                                    "(No column name)": "N",
                                    "ügyfelekszáma": "3"
                                },
                                {
                                    "(No column name)": "Összesen",
                                    "ügyfelekszáma": "4"
                                },
                                {
                                    "(No column name)": "F",
                                    "ügyfelekszáma": "8"
                                },
                                {
                                    "(No column name)": "N",
                                    "ügyfelekszáma": "3"
                                },
                                {
                                    "(No column name)": "Összesen",
                                    "ügyfelekszáma": "11"
                                },
                                {
                                    "(No column name)": "F",
                                    "ügyfelekszáma": "5"
                                },
                                {
                                    "(No column name)": "N",
                                    "ügyfelekszáma": "2"
                                },
                                {
                                    "(No column name)": "Összesen",
                                    "ügyfelekszáma": "7"
                                },
                                {
                                    "(No column name)": "F",
                                    "ügyfelekszáma": "4"
                                },
                                {
                                    "(No column name)": "N",
                                    "ügyfelekszáma": "1"
                                },
                                {
                                    "(No column name)": "Összesen",
                                    "ügyfelekszáma": "5"
                                },
                                {
                                    "(No column name)": "F",
                                    "ügyfelekszáma": "3"
                                },
                                {
                                    "(No column name)": "N",
                                    "ügyfelekszáma": "4"
                                },
                                {
                                    "(No column name)": "Összesen",
                                    "ügyfelekszáma": "7"
                                },
                                {
                                    "(No column name)": "F",
                                    "ügyfelekszáma": "4"
                                },
                                {
                                    "(No column name)": "N",
                                    "ügyfelekszáma": "3"
                                },
                                {
                                    "(No column name)": "Összesen",
                                    "ügyfelekszáma": "7"
                                },
                                {
                                    "(No column name)": "F",
                                    "ügyfelekszáma": "4"
                                },
                                {
                                    "(No column name)": "N",
                                    "ügyfelekszáma": "3"
                                },
                                {
                                    "(No column name)": "Összesen",
                                    "ügyfelekszáma": "7"
                                },
                                {
                                    "(No column name)": "N",
                                    "ügyfelekszáma": "4"
                                },
                                {
                                    "(No column name)": "Összesen",
                                    "ügyfelekszáma": "4"
                                },
                                {
                                    "(No column name)": "F",
                                    "ügyfelekszáma": "2"
                                },
                                {
                                    "(No column name)": "N",
                                    "ügyfelekszáma": "2"
                                },
                                {
                                    "(No column name)": "Összesen",
                                    "ügyfelekszáma": "4"
                                },
                                {
                                    "(No column name)": "F",
                                    "ügyfelekszáma": "5"
                                },
                                {
                                    "(No column name)": "N",
                                    "ügyfelekszáma": "3"
                                },
                                {
                                    "(No column name)": "Összesen",
                                    "ügyfelekszáma": "8"
                                },
                                {
                                    "(No column name)": "F",
                                    "ügyfelekszáma": "6"
                                },
                                {
                                    "(No column name)": "N",
                                    "ügyfelekszáma": "2"
                                },
                                {
                                    "(No column name)": "Összesen",
                                    "ügyfelekszáma": "8"
                                },
                                {
                                    "(No column name)": "F",
                                    "ügyfelekszáma": "5"
                                },
                                {
                                    "(No column name)": "N",
                                    "ügyfelekszáma": "1"
                                },
                                {
                                    "(No column name)": "Összesen",
                                    "ügyfelekszáma": "6"
                                },
                                {
                                    "(No column name)": "F",
                                    "ügyfelekszáma": "7"
                                },
                                {
                                    "(No column name)": "N",
                                    "ügyfelekszáma": "2"
                                },
                                {
                                    "(No column name)": "Összesen",
                                    "ügyfelekszáma": "9"
                                },
                                {
                                    "(No column name)": "F",
                                    "ügyfelekszáma": "2"
                                },
                                {
                                    "(No column name)": "N",
                                    "ügyfelekszáma": "3"
                                },
                                {
                                    "(No column name)": "Összesen",
                                    "ügyfelekszáma": "5"
                                },
                                {
                                    "(No column name)": "F",
                                    "ügyfelekszáma": "2"
                                },
                                {
                                    "(No column name)": "N",
                                    "ügyfelekszáma": "4"
                                },
                                {
                                    "(No column name)": "Összesen",
                                    "ügyfelekszáma": "6"
                                },
                                {
                                    "(No column name)": "F",
                                    "ügyfelekszáma": "6"
                                },
                                {
                                    "(No column name)": "N",
                                    "ügyfelekszáma": "1"
                                },
                                {
                                    "(No column name)": "Összesen",
                                    "ügyfelekszáma": "7"
                                },
                                {
                                    "(No column name)": "F",
                                    "ügyfelekszáma": "5"
                                },
                                {
                                    "(No column name)": "N",
                                    "ügyfelekszáma": "3"
                                },
                                {
                                    "(No column name)": "Összesen",
                                    "ügyfelekszáma": "8"
                                },
                                {
                                    "(No column name)": "F",
                                    "ügyfelekszáma": "3"
                                },
                                {
                                    "(No column name)": "N",
                                    "ügyfelekszáma": "3"
                                },
                                {
                                    "(No column name)": "Összesen",
                                    "ügyfelekszáma": "6"
                                },
                                {
                                    "(No column name)": "F",
                                    "ügyfelekszáma": "3"
                                },
                                {
                                    "(No column name)": "N",
                                    "ügyfelekszáma": "1"
                                },
                                {
                                    "(No column name)": "Összesen",
                                    "ügyfelekszáma": "4"
                                },
                                {
                                    "(No column name)": "F",
                                    "ügyfelekszáma": "2"
                                },
                                {
                                    "(No column name)": "N",
                                    "ügyfelekszáma": "3"
                                },
                                {
                                    "(No column name)": "Összesen",
                                    "ügyfelekszáma": "5"
                                },
                                {
                                    "(No column name)": "N",
                                    "ügyfelekszáma": "3"
                                },
                                {
                                    "(No column name)": "Összesen",
                                    "ügyfelekszáma": "3"
                                },
                                {
                                    "(No column name)": "F",
                                    "ügyfelekszáma": "3"
                                },
                                {
                                    "(No column name)": "N",
                                    "ügyfelekszáma": "3"
                                },
                                {
                                    "(No column name)": "Összesen",
                                    "ügyfelekszáma": "6"
                                },
                                {
                                    "(No column name)": "F",
                                    "ügyfelekszáma": "2"
                                },
                                {
                                    "(No column name)": "N",
                                    "ügyfelekszáma": "5"
                                },
                                {
                                    "(No column name)": "Összesen",
                                    "ügyfelekszáma": "7"
                                },
                                {
                                    "(No column name)": "F",
                                    "ügyfelekszáma": "10"
                                },
                                {
                                    "(No column name)": "N",
                                    "ügyfelekszáma": "2"
                                },
                                {
                                    "(No column name)": "Összesen",
                                    "ügyfelekszáma": "12"
                                },
                                {
                                    "(No column name)": "F",
                                    "ügyfelekszáma": "1"
                                },
                                {
                                    "(No column name)": "N",
                                    "ügyfelekszáma": "1"
                                },
                                {
                                    "(No column name)": "Összesen",
                                    "ügyfelekszáma": "2"
                                },
                                {
                                    "(No column name)": "F",
                                    "ügyfelekszáma": "1"
                                },
                                {
                                    "(No column name)": "Összesen",
                                    "ügyfelekszáma": "1"
                                },
                                {
                                    "(No column name)": "Összesen",
                                    "ügyfelekszáma": "200"
                                }
                            ]
                        },
                        "text/html": "<table><tr><th>(No column name)</th><th>(No column name)</th><th>ügyfelekszáma</th></tr><tr><td>1967</td><td>F</td><td>5</td></tr><tr><td>1967</td><td>N</td><td>3</td></tr><tr><td>1967</td><td>Összesen</td><td>8</td></tr><tr><td>1968</td><td>F</td><td>5</td></tr><tr><td>1968</td><td>N</td><td>3</td></tr><tr><td>1968</td><td>Összesen</td><td>8</td></tr><tr><td>1969</td><td>F</td><td>5</td></tr><tr><td>1969</td><td>N</td><td>3</td></tr><tr><td>1969</td><td>Összesen</td><td>8</td></tr><tr><td>1970</td><td>F</td><td>4</td></tr><tr><td>1970</td><td>Összesen</td><td>4</td></tr><tr><td>1971</td><td>F</td><td>2</td></tr><tr><td>1971</td><td>N</td><td>3</td></tr><tr><td>1971</td><td>Összesen</td><td>5</td></tr><tr><td>1972</td><td>F</td><td>2</td></tr><tr><td>1972</td><td>N</td><td>2</td></tr><tr><td>1972</td><td>Összesen</td><td>4</td></tr><tr><td>1973</td><td>F</td><td>2</td></tr><tr><td>1973</td><td>N</td><td>2</td></tr><tr><td>1973</td><td>Összesen</td><td>4</td></tr><tr><td>1974</td><td>F</td><td>1</td></tr><tr><td>1974</td><td>N</td><td>3</td></tr><tr><td>1974</td><td>Összesen</td><td>4</td></tr><tr><td>1975</td><td>F</td><td>8</td></tr><tr><td>1975</td><td>N</td><td>3</td></tr><tr><td>1975</td><td>Összesen</td><td>11</td></tr><tr><td>1976</td><td>F</td><td>5</td></tr><tr><td>1976</td><td>N</td><td>2</td></tr><tr><td>1976</td><td>Összesen</td><td>7</td></tr><tr><td>1977</td><td>F</td><td>4</td></tr><tr><td>1977</td><td>N</td><td>1</td></tr><tr><td>1977</td><td>Összesen</td><td>5</td></tr><tr><td>1978</td><td>F</td><td>3</td></tr><tr><td>1978</td><td>N</td><td>4</td></tr><tr><td>1978</td><td>Összesen</td><td>7</td></tr><tr><td>1979</td><td>F</td><td>4</td></tr><tr><td>1979</td><td>N</td><td>3</td></tr><tr><td>1979</td><td>Összesen</td><td>7</td></tr><tr><td>1980</td><td>F</td><td>4</td></tr><tr><td>1980</td><td>N</td><td>3</td></tr><tr><td>1980</td><td>Összesen</td><td>7</td></tr><tr><td>1981</td><td>N</td><td>4</td></tr><tr><td>1981</td><td>Összesen</td><td>4</td></tr><tr><td>1982</td><td>F</td><td>2</td></tr><tr><td>1982</td><td>N</td><td>2</td></tr><tr><td>1982</td><td>Összesen</td><td>4</td></tr><tr><td>1983</td><td>F</td><td>5</td></tr><tr><td>1983</td><td>N</td><td>3</td></tr><tr><td>1983</td><td>Összesen</td><td>8</td></tr><tr><td>1984</td><td>F</td><td>6</td></tr><tr><td>1984</td><td>N</td><td>2</td></tr><tr><td>1984</td><td>Összesen</td><td>8</td></tr><tr><td>1985</td><td>F</td><td>5</td></tr><tr><td>1985</td><td>N</td><td>1</td></tr><tr><td>1985</td><td>Összesen</td><td>6</td></tr><tr><td>1986</td><td>F</td><td>7</td></tr><tr><td>1986</td><td>N</td><td>2</td></tr><tr><td>1986</td><td>Összesen</td><td>9</td></tr><tr><td>1987</td><td>F</td><td>2</td></tr><tr><td>1987</td><td>N</td><td>3</td></tr><tr><td>1987</td><td>Összesen</td><td>5</td></tr><tr><td>1988</td><td>F</td><td>2</td></tr><tr><td>1988</td><td>N</td><td>4</td></tr><tr><td>1988</td><td>Összesen</td><td>6</td></tr><tr><td>1989</td><td>F</td><td>6</td></tr><tr><td>1989</td><td>N</td><td>1</td></tr><tr><td>1989</td><td>Összesen</td><td>7</td></tr><tr><td>1990</td><td>F</td><td>5</td></tr><tr><td>1990</td><td>N</td><td>3</td></tr><tr><td>1990</td><td>Összesen</td><td>8</td></tr><tr><td>1991</td><td>F</td><td>3</td></tr><tr><td>1991</td><td>N</td><td>3</td></tr><tr><td>1991</td><td>Összesen</td><td>6</td></tr><tr><td>1992</td><td>F</td><td>3</td></tr><tr><td>1992</td><td>N</td><td>1</td></tr><tr><td>1992</td><td>Összesen</td><td>4</td></tr><tr><td>1993</td><td>F</td><td>2</td></tr><tr><td>1993</td><td>N</td><td>3</td></tr><tr><td>1993</td><td>Összesen</td><td>5</td></tr><tr><td>1994</td><td>N</td><td>3</td></tr><tr><td>1994</td><td>Összesen</td><td>3</td></tr><tr><td>1995</td><td>F</td><td>3</td></tr><tr><td>1995</td><td>N</td><td>3</td></tr><tr><td>1995</td><td>Összesen</td><td>6</td></tr><tr><td>1996</td><td>F</td><td>2</td></tr><tr><td>1996</td><td>N</td><td>5</td></tr><tr><td>1996</td><td>Összesen</td><td>7</td></tr><tr><td>1997</td><td>F</td><td>10</td></tr><tr><td>1997</td><td>N</td><td>2</td></tr><tr><td>1997</td><td>Összesen</td><td>12</td></tr><tr><td>1998</td><td>F</td><td>1</td></tr><tr><td>1998</td><td>N</td><td>1</td></tr><tr><td>1998</td><td>Összesen</td><td>2</td></tr><tr><td>2000</td><td>F</td><td>1</td></tr><tr><td>2000</td><td>Összesen</td><td>1</td></tr><tr><td>Összesen</td><td>Összesen</td><td>200</td></tr></table>"
                    },
                    "metadata": {}
                }
            ],
            "execution_count": 10
        },
        {
            "cell_type": "markdown",
            "source": [
                "5. <span style=\"background-color: rgb(255, 255, 255); color: rgb(0, 0, 0); font-family: &quot;Open Sans&quot;, sans-serif; font-size: 14.44px;\">Készítsünk listát a termékek számáról a felvitel hónapja, azon belül napja szerint csoportosítva.&nbsp;</span> \n",
                "\n",
                "a. A lista csak a részösszegeket és a végösszeget tartalmazza!  \n",
                "b. Az oszlopoknak adjunk megfelelő nevet!  \n",
                "c. Ötlet: HAVING + GROUPING\\_ID fv együttes használata"
            ],
            "metadata": {
                "azdata_cell_guid": "84239ca2-6b5e-49f5-9860-d44c11d6de32"
            },
            "attachments": {}
        },
        {
            "cell_type": "code",
            "source": [
                "select count(*) as 'DB',\r\n",
                "        iif(GROUPING_ID(month(FELVITEL)) = 1, 'Összesen', cast(month(FELVITEL) as  NVARCHAR(10))) as 'Month',\r\n",
                "        iif(GROUPING_ID(DAY(FELVITEL)) = 1, 'Összesen', cast(day(FELVITEL) as NVARCHAR(10))) as 'Day'\r\n",
                "        \r\n",
                "from Termek\r\n",
                "GROUP by rollup(month(FELVITEL), day(FELVITEL))\r\n",
                "having month(FELVITEL) is null or day(FELVITEL) is null"
            ],
            "metadata": {
                "azdata_cell_guid": "06d9a62b-9430-424b-a135-d80e675f0eb3",
                "language": "sql"
            },
            "outputs": [
                {
                    "output_type": "display_data",
                    "data": {
                        "text/html": "(5 rows affected)"
                    },
                    "metadata": {}
                },
                {
                    "output_type": "display_data",
                    "data": {
                        "text/html": "Total execution time: 00:00:00.057"
                    },
                    "metadata": {}
                },
                {
                    "output_type": "execute_result",
                    "execution_count": 14,
                    "data": {
                        "application/vnd.dataresource+json": {
                            "schema": {
                                "fields": [
                                    {
                                        "name": "DB"
                                    },
                                    {
                                        "name": "Month"
                                    },
                                    {
                                        "name": "Day"
                                    }
                                ]
                            },
                            "data": [
                                {
                                    "DB": "355",
                                    "Month": "7",
                                    "Day": "Összesen"
                                },
                                {
                                    "DB": "194",
                                    "Month": "8",
                                    "Day": "Összesen"
                                },
                                {
                                    "DB": "1",
                                    "Month": "9",
                                    "Day": "Összesen"
                                },
                                {
                                    "DB": "1",
                                    "Month": "12",
                                    "Day": "Összesen"
                                },
                                {
                                    "DB": "551",
                                    "Month": "Összesen",
                                    "Day": "Összesen"
                                }
                            ]
                        },
                        "text/html": "<table><tr><th>DB</th><th>Month</th><th>Day</th></tr><tr><td>355</td><td>7</td><td>Összesen</td></tr><tr><td>194</td><td>8</td><td>Összesen</td></tr><tr><td>1</td><td>9</td><td>Összesen</td></tr><tr><td>1</td><td>12</td><td>Összesen</td></tr><tr><td>551</td><td>Összesen</td><td>Összesen</td></tr></table>"
                    },
                    "metadata": {}
                }
            ],
            "execution_count": 14
        }
    ]
}