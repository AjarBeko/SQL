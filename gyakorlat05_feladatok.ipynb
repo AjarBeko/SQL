{
    "metadata": {
        "kernelspec": {
            "name": "SQL",
            "display_name": "SQL",
            "language": "sql"
        },
        "language_info": {
            "name": "sql",
            "version": ""
        }
    },
    "nbformat_minor": 2,
    "nbformat": 4,
    "cells": [
        {
            "cell_type": "markdown",
            "source": [
                "1. <span style=\"color: rgb(36, 41, 47); font-family: -apple-system, BlinkMacSystemFont, &quot;Segoe UI&quot;, Helvetica, Arial, sans-serif, &quot;Apple Color Emoji&quot;, &quot;Segoe UI Emoji&quot;; font-size: 16px;\">Készítsünk listát éves bontásban norbert2 azonosítójú ügyfél rendeléseinek értékéről!</span>\n",
                "\n",
                "1. A lista megfelelően jelölve tartalmazza a végösszeget is!"
            ],
            "metadata": {
                "azdata_cell_guid": "363cd270-6577-449b-9c89-d4b7c7972d52"
            },
            "attachments": {}
        },
        {
            "cell_type": "code",
            "source": [
                "select  IIF(GROUPING_ID(year(r.REND_DATUM)) = 1, 'Összesen', cast(year(r.REND_DATUM) as nvarchar(4))),\r\n",
                "        sum(MENNYISEG * rt.EGYSEGAR)\r\n",
                " from Rendeles r join Rendeles_tetel rt on r.SORSZAM = rt.SORSZAM\r\n",
                " WHERE r.[LOGIN] = 'norbert2'\r\n",
                " group by rollup( YEAR(r.REND_DATUM)) "
            ],
            "metadata": {
                "azdata_cell_guid": "6ab9f633-a3b5-48c9-a1dc-4fb8235ae85b",
                "language": "sql"
            },
            "outputs": [],
            "execution_count": null
        },
        {
            "cell_type": "markdown",
            "source": [
                "2. <span style=\"color: rgb(36, 41, 47); font-family: -apple-system, BlinkMacSystemFont, &quot;Segoe UI&quot;, Helvetica, Arial, sans-serif, &quot;Apple Color Emoji&quot;, &quot;Segoe UI Emoji&quot;; font-size: 16px;\">Készítsünk listát szállítási dátumonként, azon belül szállítási módonként az egyes rendelések összmennyiségéről!</span>\n",
                "\n",
                "1. Csak azokat a termékeket vegyük figyelembe, amelyek mennyiségi egysége db!\n",
                "2. A listát szűrjük úgy, hogy az csak a részösszeg sorokat és a végösszeget tartalmazza!"
            ],
            "metadata": {
                "azdata_cell_guid": "ea75c103-911f-41a3-a32c-3d40fb3e4e4a"
            },
            "attachments": {}
        },
        {
            "cell_type": "code",
            "source": [
                "select r.SZALL_DATUM, r.SZALL_MOD,\r\n",
                "        GROUPING_ID(r.SZALL_DATUM, r.SZALL_MOD)\r\n",
                "from Rendeles r join Rendeles_tetel rt on r.SORSZAM = rt.SORSZAM\r\n",
                "                join termek t on rt.TERMEKKOD = t.TERMEKKOD\r\n",
                "WHERE MEGYS = 'db'\r\n",
                "group by rollup(r.szall_datum, r.szall_mod)\r\n",
                "having GROUPING_ID(r.szall_DATUM, r.SZALL_MOD) > 0"
            ],
            "metadata": {
                "azdata_cell_guid": "222b9618-a8e8-42b4-a8e8-d002257122b7",
                "language": "sql"
            },
            "outputs": [],
            "execution_count": null
        },
        {
            "cell_type": "markdown",
            "source": [
                "```\n",
                "3. Hány olyan ügyfél van, aki még nem rendelt semmit?\n",
                "```\n",
                "\n",
                "1. Csoportosítsuk őket nem szerint, azon belül életkor szerint!\n",
                "2. A lista tartalmazza a részösszegeket és a végösszeget is!\n",
                "\n",
                "![](https://moodle.uni-corvinus.hu/theme/image.php/adaptable/atto_h5p/1709548862/icon)"
            ],
            "metadata": {
                "azdata_cell_guid": "d7876bb9-76d0-4d07-baed-3cb17b2f96c3"
            },
            "attachments": {}
        },
        {
            "cell_type": "code",
            "source": [
                "--SELECT u.LOGIN, count(*)\r\n",
                "--from ugyfel u join Rendeles r on u.login = r.LOGIN\r\n",
                "--group by u.[LOGIN]\r\n",
                "--HAVING u.login <> r.login"
            ],
            "metadata": {
                "azdata_cell_guid": "56ec19ce-e249-4551-b2a8-f17569765acc",
                "language": "sql"
            },
            "outputs": [
                {
                    "output_type": "error",
                    "evalue": "Msg 8161, Level 16, State 1, Line 4\r\nArgument 2 of the GROUPING_ID function does not match any of the expressions in the GROUP BY clause.",
                    "ename": "",
                    "traceback": []
                },
                {
                    "output_type": "display_data",
                    "data": {
                        "text/html": "Total execution time: 00:00:00.025"
                    },
                    "metadata": {}
                }
            ],
            "execution_count": 24
        },
        {
            "cell_type": "markdown",
            "source": [
                "4. <span style=\"color: rgb(36, 41, 47); font-family: -apple-system, BlinkMacSystemFont, &quot;Segoe UI&quot;, Helvetica, Arial, sans-serif, &quot;Apple Color Emoji&quot;, &quot;Segoe UI Emoji&quot;; font-size: 16px;\">Készítsünk listát a megrendelt termékek legkisebb és legnagyobb egységáráról szállítási dátum, azon belül szállítási mód szerinti bontásban!</span>\n",
                "\n",
                "1. A lista csak a 2015 májusi szállításokat tartalmazza!\n",
                "2. Jelenítsük meg a részösszegeket és a végösszeget is!"
            ],
            "metadata": {
                "azdata_cell_guid": "8e7fef82-8022-49a0-8255-fc2846c2134b"
            },
            "attachments": {}
        },
        {
            "cell_type": "code",
            "source": [
                "SELECT distinct Termek.MEGNEVEZES,\r\n",
                "FIRST_VALUE(Rendeles_tetel.EGYSEGAR) over (PARTITION by Rendeles_tetel.EGYSEGAR order by Rendeles_tetel.EGYSEGAR ASC),\r\n",
                "FIRST_VALUE(Rendeles_tetel.EGYSEGAR) over (PARTITION by Rendeles_tetel.EGYSEGAR order by Rendeles_tetel.EGYSEGAR desc)\r\n",
                "from Rendeles_tetel join Termek on Rendeles_tetel.TERMEKKOD = termek.TERMEKKOD\r\n",
                "                    join Rendeles on rendeles_tetel.SORSZAM = rendeles.SORSZAM\r\n",
                "where year(rendeles.szall_DATUM) = 2015 and MONTH(Rendeles.szall_DATUM) = 05"
            ],
            "metadata": {
                "azdata_cell_guid": "36f7b396-4a1f-45e5-8720-2302537c91bc",
                "language": "sql"
            },
            "outputs": [
                {
                    "output_type": "display_data",
                    "data": {
                        "text/html": "(554 rows affected)"
                    },
                    "metadata": {}
                },
                {
                    "output_type": "display_data",
                    "data": {
                        "text/html": "Total execution time: 00:00:00.173"
                    },
                    "metadata": {}
                },
                {
                    "output_type": "execute_result",
                    "metadata": {},
                    "execution_count": 30,
                    "data": {
                        "application/vnd.dataresource+json": {
                            "schema": {
                                "fields": [
                                    {
                                        "name": "MEGNEVEZES"
                                    },
                                    {
                                        "name": "(No column name)"
                                    },
                                    {
                                        "name": "(No column name)"
                                    }
                                ]
                            },
                            "data": [
                                {
                                    "MEGNEVEZES": "A föld amelyen élünk - Európa földrajza",
                                    "(No column name)": "990"
                                },
                                {
                                    "MEGNEVEZES": "A föld amelyen élünk - Hazánk földrajza",
                                    "(No column name)": "990"
                                },
                                {
                                    "MEGNEVEZES": "A föld amelyen élünk - munkafüzet",
                                    "(No column name)": "400"
                                },
                                {
                                    "MEGNEVEZES": "A föld amelyen élünk - Távoli földrészek",
                                    "(No column name)": "990"
                                },
                                {
                                    "MEGNEVEZES": "Ablakkréta",
                                    "(No column name)": "146"
                                },
                                {
                                    "MEGNEVEZES": "Ajándék cs. 2×100×70",
                                    "(No column name)": "134"
                                },
                                {
                                    "MEGNEVEZES": "Ajándék cs. húsvéti",
                                    "(No column name)": "96"
                                },
                                {
                                    "MEGNEVEZES": "Ajándék cs. húsvéti 200x70",
                                    "(No column name)": "200"
                                },
                                {
                                    "MEGNEVEZES": "Ajándék cs. tasak italos",
                                    "(No column name)": "168"
                                },
                                {
                                    "MEGNEVEZES": "Ajándék cs. tasak italos, fólia",
                                    "(No column name)": "17"
                                },
                                {
                                    "MEGNEVEZES": "Ajándék cs. tasak kicsi",
                                    "(No column name)": "23"
                                },
                                {
                                    "MEGNEVEZES": "Ajándék cs. tasak kicsi",
                                    "(No column name)": "93"
                                },
                                {
                                    "MEGNEVEZES": "Ajándék cs. tasak közepes",
                                    "(No column name)": "134"
                                },
                                {
                                    "MEGNEVEZES": "Ajándék cs. tasak mintás kicsi",
                                    "(No column name)": "23"
                                },
                                {
                                    "MEGNEVEZES": "Ajándék cs. tasak mintás nagy",
                                    "(No column name)": "187"
                                },
                                {
                                    "MEGNEVEZES": "Ajándék cs. tasak virágos nagy",
                                    "(No column name)": "263"
                                },
                                {
                                    "MEGNEVEZES": "Ajándék csom. 100x70 metál",
                                    "(No column name)": "134"
                                },
                                {
                                    "MEGNEVEZES": "Ajándék csom. 150x70",
                                    "(No column name)": "187"
                                },
                                {
                                    "MEGNEVEZES": "Ajándék csom. 200x70",
                                    "(No column name)": "113"
                                },
                                {
                                    "MEGNEVEZES": "Ajándék csom. 50x70 húsvéti",
                                    "(No column name)": "58"
                                },
                                {
                                    "MEGNEVEZES": "Ajándék csom. 70x50 metál",
                                    "(No column name)": "73"
                                },
                                {
                                    "MEGNEVEZES": "Ajándék csom. gyűrt",
                                    "(No column name)": "153"
                                },
                                {
                                    "MEGNEVEZES": "Ajándék csom. gyűrt 50x70 ",
                                    "(No column name)": "110"
                                },
                                {
                                    "MEGNEVEZES": "Ajándék csom. Krepp",
                                    "(No column name)": "50"
                                },
                                {
                                    "MEGNEVEZES": "Ajándék csom. nagy  ",
                                    "(No column name)": "40"
                                },
                                {
                                    "MEGNEVEZES": "Ajándék csom. vékony",
                                    "(No column name)": "20"
                                },
                                {
                                    "MEGNEVEZES": "Ajándék csomagoló tasak",
                                    "(No column name)": "168"
                                },
                                {
                                    "MEGNEVEZES": "Ajándék csomagoló tasak lézeres",
                                    "(No column name)": "194"
                                },
                                {
                                    "MEGNEVEZES": "Álarc",
                                    "(No column name)": "80"
                                },
                                {
                                    "MEGNEVEZES": "Álarc fejdísz",
                                    "(No column name)": "130"
                                },
                                {
                                    "MEGNEVEZES": "Álarc szemüveg",
                                    "(No column name)": "130"
                                },
                                {
                                    "MEGNEVEZES": "Álló irattartó",
                                    "(No column name)": "194"
                                },
                                {
                                    "MEGNEVEZES": "Álló irattartó karton",
                                    "(No column name)": "120"
                                },
                                {
                                    "MEGNEVEZES": "Alufólia 10 m-es",
                                    "(No column name)": "107"
                                },
                                {
                                    "MEGNEVEZES": "Alufólia 20 m-es",
                                    "(No column name)": "194"
                                },
                                {
                                    "MEGNEVEZES": "Anyanyelvi gyakorló 2",
                                    "(No column name)": "266"
                                },
                                {
                                    "MEGNEVEZES": "Anyanyelvi gyakorló 3",
                                    "(No column name)": "320"
                                },
                                {
                                    "MEGNEVEZES": "Árazószalag ",
                                    "(No column name)": "96"
                                },
                                {
                                    "MEGNEVEZES": "Átírótömb A/6",
                                    "(No column name)": "104"
                                },
                                {
                                    "MEGNEVEZES": "Beíró A/5 kockás",
                                    "(No column name)": "207"
                                },
                                {
                                    "MEGNEVEZES": "Beírókönyv A4",
                                    "(No column name)": "298"
                                },
                                {
                                    "MEGNEVEZES": "Beírókönyv A5 ",
                                    "(No column name)": "120"
                                },
                                {
                                    "MEGNEVEZES": "Bélyegző IDEAL 50",
                                    "(No column name)": "709"
                                },
                                {
                                    "MEGNEVEZES": "Bélyegző párna",
                                    "(No column name)": "590"
                                },
                                {
                                    "MEGNEVEZES": "Bélyegző pocket",
                                    "(No column name)": "1251"
                                },
                                {
                                    "MEGNEVEZES": "Bélyegző RP 18-47",
                                    "(No column name)": "1042"
                                },
                                {
                                    "MEGNEVEZES": "Bélyegzőfesték ",
                                    "(No column name)": "270"
                                },
                                {
                                    "MEGNEVEZES": "Bérlet tok",
                                    "(No column name)": "21"
                                },
                                {
                                    "MEGNEVEZES": "Betűtartó sin",
                                    "(No column name)": "30"
                                },
                                {
                                    "MEGNEVEZES": "Bevételi pénztárbizonylat 3×25",
                                    "(No column name)": "130"
                                },
                                {
                                    "MEGNEVEZES": "Boríték B/4-es",
                                    "(No column name)": "16"
                                },
                                {
                                    "MEGNEVEZES": "Boríték C/4-es",
                                    "(No column name)": "13"
                                },
                                {
                                    "MEGNEVEZES": "Boríték LA 4 francia",
                                    "(No column name)": "5"
                                },
                                {
                                    "MEGNEVEZES": "Boríték LC 5",
                                    "(No column name)": "5"
                                },
                                {
                                    "MEGNEVEZES": "Boríték LC 6",
                                    "(No column name)": "2"
                                },
                                {
                                    "MEGNEVEZES": "Boríték légp. kicsi",
                                    "(No column name)": "35"
                                },
                                {
                                    "MEGNEVEZES": "Boríték mintás",
                                    "(No column name)": "13"
                                },
                                {
                                    "MEGNEVEZES": "CD tartó tok",
                                    "(No column name)": "27"
                                },
                                {
                                    "MEGNEVEZES": "Celofán",
                                    "(No column name)": "41"
                                },
                                {
                                    "MEGNEVEZES": "Celofán 50 db-os",
                                    "(No column name)": "66"
                                },
                                {
                                    "MEGNEVEZES": "Ceruza 2H-3B Koh-i-nor",
                                    "(No column name)": "48"
                                },
                                {
                                    "MEGNEVEZES": "Ceruza 2H-4B",
                                    "(No column name)": "35"
                                },
                                {
                                    "MEGNEVEZES": "Ceruza arany, ezüst",
                                    "(No column name)": "50"
                                },
                                {
                                    "MEGNEVEZES": "Ceruza Conté zöld",
                                    "(No column name)": "36"
                                },
                                {
                                    "MEGNEVEZES": "Ceruza Cseh",
                                    "(No column name)": "27"
                                },
                                {
                                    "MEGNEVEZES": "Ceruza háromszög ",
                                    "(No column name)": "35"
                                },
                                {
                                    "MEGNEVEZES": "Ceruza HB radiros",
                                    "(No column name)": "20"
                                },
                                {
                                    "MEGNEVEZES": "Ceruza kártyás",
                                    "(No column name)": "50"
                                },
                                {
                                    "MEGNEVEZES": "Ceruza kínai",
                                    "(No column name)": "10"
                                },
                                {
                                    "MEGNEVEZES": "Ceruza piros-kék",
                                    "(No column name)": "53"
                                },
                                {
                                    "MEGNEVEZES": "Ceruza piros-kék vékony",
                                    "(No column name)": "36"
                                },
                                {
                                    "MEGNEVEZES": "Ceruza Progresso",
                                    "(No column name)": "96"
                                },
                                {
                                    "MEGNEVEZES": "Ceruza radíros kínai",
                                    "(No column name)": "10"
                                },
                                {
                                    "MEGNEVEZES": "Ceruza smaragd",
                                    "(No column name)": "52"
                                },
                                {
                                    "MEGNEVEZES": "Ceruza stabilo opera",
                                    "(No column name)": "40"
                                },
                                {
                                    "MEGNEVEZES": "Ceruza stabilo swano",
                                    "(No column name)": "32"
                                },
                                {
                                    "MEGNEVEZES": "Ceruza szén",
                                    "(No column name)": "132"
                                },
                                {
                                    "MEGNEVEZES": "Ceruza szorzótáblás",
                                    "(No column name)": "31"
                                },
                                {
                                    "MEGNEVEZES": "Ceruza zöld színű",
                                    "(No column name)": "36"
                                },
                                {
                                    "MEGNEVEZES": "Ceruzafogó",
                                    "(No column name)": "32"
                                },
                                {
                                    "MEGNEVEZES": "Címke 8 db-os",
                                    "(No column name)": "23"
                                },
                                {
                                    "MEGNEVEZES": "Címke egyszínű",
                                    "(No column name)": "18"
                                },
                                {
                                    "MEGNEVEZES": "Címke WD. állat",
                                    "(No column name)": "28"
                                },
                                {
                                    "MEGNEVEZES": "Color Copy 160 g-os ",
                                    "(No column name)": "12"
                                },
                                {
                                    "MEGNEVEZES": "Color Copy A/4 250 g",
                                    "(No column name)": "13"
                                },
                                {
                                    "MEGNEVEZES": "Color Copy A4 120 g",
                                    "(No column name)": "9"
                                },
                                {
                                    "MEGNEVEZES": "Color Copy A4 200 g",
                                    "(No column name)": "12"
                                },
                                {
                                    "MEGNEVEZES": "Dekorációs karton",
                                    "(No column name)": "66"
                                },
                                {
                                    "MEGNEVEZES": "Dekorációs karton arany, ezüst",
                                    "(No column name)": "80"
                                },
                                {
                                    "MEGNEVEZES": "Dipa A/4 keretezett",
                                    "(No column name)": "8"
                                },
                                {
                                    "MEGNEVEZES": "Díszdoboz kar.",
                                    "(No column name)": "55"
                                },
                                {
                                    "MEGNEVEZES": "Díszdoboz tollnak 2 db-os",
                                    "(No column name)": "60"
                                },
                                {
                                    "MEGNEVEZES": "Díszdoboz tollnak 2 db-os keskeny",
                                    "(No column name)": "40"
                                },
                                {
                                    "MEGNEVEZES": "Diszkötöző szalag arany",
                                    "(No column name)": "40"
                                },
                                {
                                    "MEGNEVEZES": "Díszkötöző szalag metál kicsi",
                                    "(No column name)": "13"
                                },
                                {
                                    "MEGNEVEZES": "Díszkötöző szalag metál nagy",
                                    "(No column name)": "23"
                                },
                                {
                                    "MEGNEVEZES": "Díszkötöző szalag vékony",
                                    "(No column name)": "13"
                                },
                                {
                                    "MEGNEVEZES": "Diszkötöző széles szalag",
                                    "(No column name)": "73"
                                },
                                {
                                    "MEGNEVEZES": "Dvd",
                                    "(No column name)": "120"
                                },
                                {
                                    "MEGNEVEZES": "Ecset Centrum 10,11,12",
                                    "(No column name)": "36"
                                },
                                {
                                    "MEGNEVEZES": "Ecset Centrum 7,8,9",
                                    "(No column name)": "30"
                                },
                                {
                                    "MEGNEVEZES": "Ecset Deák 2-es",
                                    "(No column name)": "54"
                                },
                                {
                                    "MEGNEVEZES": "Ecset Lizzy 10-es",
                                    "(No column name)": "59"
                                },
                                {
                                    "MEGNEVEZES": "Ecset Nebuló 10-es",
                                    "(No column name)": "71"
                                },
                                {
                                    "MEGNEVEZES": "Ecset Nebulo 4-es",
                                    "(No column name)": "32"
                                },
                                {
                                    "MEGNEVEZES": "Ecsetkészlet",
                                    "(No column name)": "163"
                                },
                                {
                                    "MEGNEVEZES": "Egészségügyi könyv",
                                    "(No column name)": "46"
                                },
                                {
                                    "MEGNEVEZES": "Ellenőrzőborító",
                                    "(No column name)": "4"
                                },
                                {
                                    "MEGNEVEZES": "Előlap spirálhoz",
                                    "(No column name)": "22"
                                },
                                {
                                    "MEGNEVEZES": "Emlékkönyv",
                                    "(No column name)": "287"
                                },
                                {
                                    "MEGNEVEZES": "Emlékkönyv",
                                    "(No column name)": "478"
                                },
                                {
                                    "MEGNEVEZES": "Emlékkönyv lakatos",
                                    "(No column name)": "408"
                                },
                                {
                                    "MEGNEVEZES": "Emléklap A/5",
                                    "(No column name)": "23"
                                },
                                {
                                    "MEGNEVEZES": "Érettségi felv. fel. Biológia",
                                    "(No column name)": "400"
                                },
                                {
                                    "MEGNEVEZES": "Érettségi felv. fel. Fizika",
                                    "(No column name)": "400"
                                },
                                {
                                    "MEGNEVEZES": "Érettségi felv. fel. Matematika",
                                    "(No column name)": "654"
                                },
                                {
                                    "MEGNEVEZES": "Esküvői meghívó",
                                    "(No column name)": "53"
                                },
                                {
                                    "MEGNEVEZES": "Fax papír 15 m",
                                    "(No column name)": "146"
                                },
                                {
                                    "MEGNEVEZES": "Fehér másoló A/3",
                                    "(No column name)": "1352"
                                },
                                {
                                    "MEGNEVEZES": "Fehér másoló A/4",
                                    "(No column name)": "623"
                                },
                                {
                                    "MEGNEVEZES": "félfamentes rajzlap A4 (10 lap)",
                                    "(No column name)": "310"
                                },
                                {
                                    "MEGNEVEZES": "Fénymásoló papír DataCopy",
                                    "(No column name)": "768"
                                },
                                {
                                    "MEGNEVEZES": "Fénymásoló papír GetCopy",
                                    "(No column name)": "661"
                                },
                                {
                                    "MEGNEVEZES": "Fénymásoló papír Qconnect",
                                    "(No column name)": "661"
                                },
                                {
                                    "MEGNEVEZES": "férfi farmer nadrág",
                                    "(No column name)": "7172"
                                },
                                {
                                    "MEGNEVEZES": "férfi ing",
                                    "(No column name)": "5723"
                                },
                                {
                                    "MEGNEVEZES": "férfi ing",
                                    "(No column name)": "5900"
                                },
                                {
                                    "MEGNEVEZES": "férfi szövet kabát",
                                    "(No column name)": "20000"
                                },
                                {
                                    "MEGNEVEZES": "férfi szövet nadrág",
                                    "(No column name)": "10818"
                                },
                                {
                                    "MEGNEVEZES": "Festékpatron BCI-3BK",
                                    "(No column name)": "568"
                                },
                                {
                                    "MEGNEVEZES": "Filctoll ",
                                    "(No column name)": "23"
                                },
                                {
                                    "MEGNEVEZES": "Filctoll CD író",
                                    "(No column name)": "0"
                                },
                                {
                                    "MEGNEVEZES": "Filctoll document pen",
                                    "(No column name)": "252"
                                },
                                {
                                    "MEGNEVEZES": "Filctoll Edding 750",
                                    "(No column name)": "394"
                                },
                                {
                                    "MEGNEVEZES": "Filctoll Marvy alkoholos",
                                    "(No column name)": "354"
                                },
                                {
                                    "MEGNEVEZES": "Filctoll permanent vastag",
                                    "(No column name)": "127"
                                },
                                {
                                    "MEGNEVEZES": "Filctoll supra fine",
                                    "(No column name)": "41"
                                },
                                {
                                    "MEGNEVEZES": "Filctoll TINTEN PEN",
                                    "(No column name)": "48"
                                },
                                {
                                    "MEGNEVEZES": "Filctoll vastag ARTIP",
                                    "(No column name)": "69"
                                },
                                {
                                    "MEGNEVEZES": "Filctoll, alkoholos Centropen",
                                    "(No column name)": "103"
                                },
                                {
                                    "MEGNEVEZES": "Filctoll, alkoholosOHP F-M-C",
                                    "(No column name)": "93"
                                },
                                {
                                    "MEGNEVEZES": "Filctoll, textil Edding 4500",
                                    "(No column name)": "250"
                                },
                                {
                                    "MEGNEVEZES": "fiú alsó",
                                    "(No column name)": "354"
                                },
                                {
                                    "MEGNEVEZES": "fiú harisnya",
                                    "(No column name)": "900"
                                },
                                {
                                    "MEGNEVEZES": "fiú ünneplős ruha",
                                    "(No column name)": "15363"
                                },
                                {
                                    "MEGNEVEZES": "fiú zokni",
                                    "(No column name)": "218"
                                },
                                {
                                    "MEGNEVEZES": "Fizika",
                                    "(No column name)": "612"
                                },
                                {
                                    "MEGNEVEZES": "Fizika 13 éveseknek",
                                    "(No column name)": "280"
                                },
                                {
                                    "MEGNEVEZES": "Fizika munkafüzet 13 év.",
                                    "(No column name)": "180"
                                },
                                {
                                    "MEGNEVEZES": "Fizika munkafüzet 14 év.",
                                    "(No column name)": "172"
                                },
                                {
                                    "MEGNEVEZES": "Fizikai feladatok és tévedések",
                                    "(No column name)": "294"
                                },
                                {
                                    "MEGNEVEZES": "Floppy lemez",
                                    "(No column name)": "46"
                                },
                                {
                                    "MEGNEVEZES": "Fogalmazás lépésről lépésre",
                                    "(No column name)": "313"
                                },
                                {
                                    "MEGNEVEZES": "Fólia tasakos A4 125 mik.",
                                    "(No column name)": "40"
                                },
                                {
                                    "MEGNEVEZES": "Fólia tasakos A4 80 mik.",
                                    "(No column name)": "36"
                                },
                                {
                                    "MEGNEVEZES": "Fólia tasakos A4100 mik.",
                                    "(No column name)": "40"
                                },
                                {
                                    "MEGNEVEZES": "Fotópapír A/4 fényes",
                                    "(No column name)": "27"
                                },
                                {
                                    "MEGNEVEZES": "Füzet  A/4 ",
                                    "(No column name)": "61"
                                },
                                {
                                    "MEGNEVEZES": "Füzet  A4 mintás",
                                    "(No column name)": "70"
                                },
                                {
                                    "MEGNEVEZES": "Füzet 31-32 szótár",
                                    "(No column name)": "30"
                                },
                                {
                                    "MEGNEVEZES": "Füzet A/5 hangjegy 36/16",
                                    "(No column name)": "27"
                                },
                                {
                                    "MEGNEVEZES": "Füzet A/5, mintás",
                                    "(No column name)": "43"
                                },
                                {
                                    "MEGNEVEZES": "Füzet A5 1-8 osz.-ig",
                                    "(No column name)": "30"
                                },
                                {
                                    "MEGNEVEZES": "Füzetborító A/4 átlátszó",
                                    "(No column name)": "9"
                                },
                                {
                                    "MEGNEVEZES": "Füzetborító A/4 mintás",
                                    "(No column name)": "21"
                                },
                                {
                                    "MEGNEVEZES": "Füzetborító átlátszó A5",
                                    "(No column name)": "7"
                                },
                                {
                                    "MEGNEVEZES": "Füzetborító öntapadó kicsi",
                                    "(No column name)": "20"
                                },
                                {
                                    "MEGNEVEZES": "Füzetborító öntapadó tekercses",
                                    "(No column name)": "177"
                                },
                                {
                                    "MEGNEVEZES": "Füzetborító öntapadós nagy",
                                    "(No column name)": "17"
                                },
                                {
                                    "MEGNEVEZES": "Füzettartó A/4",
                                    "(No column name)": "294"
                                },
                                {
                                    "MEGNEVEZES": "Füzettartó A/4 keménytáblás",
                                    "(No column name)": "461"
                                },
                                {
                                    "MEGNEVEZES": "Füzettartó A/4 keménytáblás",
                                    "(No column name)": "500"
                                },
                                {
                                    "MEGNEVEZES": "Füzettartó A/5  ",
                                    "(No column name)": "184"
                                },
                                {
                                    "MEGNEVEZES": "Füzettartó A/5 vastag",
                                    "(No column name)": "373"
                                },
                                {
                                    "MEGNEVEZES": "G. toll betét mini",
                                    "(No column name)": "27"
                                },
                                {
                                    "MEGNEVEZES": "G. toll betét mini fém",
                                    "(No column name)": "50"
                                },
                                {
                                    "MEGNEVEZES": "G. toll betét réz",
                                    "(No column name)": "27"
                                },
                                {
                                    "MEGNEVEZES": "G. toll betét S7S",
                                    "(No column name)": "72"
                                },
                                {
                                    "MEGNEVEZES": "G. toll betét UNI lachnok Fine SA-7C",
                                    "(No column name)": "77"
                                },
                                {
                                    "MEGNEVEZES": "G.toll betét csavaros",
                                    "(No column name)": "50"
                                },
                                {
                                    "MEGNEVEZES": "G.toll betét görbe hegyű",
                                    "(No column name)": "35"
                                },
                                {
                                    "MEGNEVEZES": "G.toll betét illatos",
                                    "(No column name)": "40"
                                },
                                {
                                    "MEGNEVEZES": "G.toll betét jumbo",
                                    "(No column name)": "30"
                                },
                                {
                                    "MEGNEVEZES": "G.toll betét Parker ",
                                    "(No column name)": "621"
                                },
                                {
                                    "MEGNEVEZES": "G.toll betét PAX",
                                    "(No column name)": "111"
                                },
                                {
                                    "MEGNEVEZES": "G.toll betét PAX tip.",
                                    "(No column name)": "43"
                                },
                                {
                                    "MEGNEVEZES": "G.toll betét S7L ",
                                    "(No column name)": "82"
                                },
                                {
                                    "MEGNEVEZES": "G.toll betét Stabilo",
                                    "(No column name)": "20"
                                },
                                {
                                    "MEGNEVEZES": "G.toll betét X20",
                                    "(No column name)": "13"
                                },
                                {
                                    "MEGNEVEZES": "G.toll betét Zebra F-0.7",
                                    "(No column name)": "207"
                                },
                                {
                                    "MEGNEVEZES": "G.toll betét Zebra H-0,7",
                                    "(No column name)": "70"
                                },
                                {
                                    "MEGNEVEZES": "G.toll betét Zebra K-0,7",
                                    "(No column name)": "80"
                                },
                                {
                                    "MEGNEVEZES": "Gemkapocs 28 mm",
                                    "(No column name)": "27"
                                },
                                {
                                    "MEGNEVEZES": "Gémkapocs 28-as színes",
                                    "(No column name)": "40"
                                },
                                {
                                    "MEGNEVEZES": "Gémkapocs 50-es",
                                    "(No column name)": "93"
                                },
                                {
                                    "MEGNEVEZES": "Gemkapocs ICO",
                                    "(No column name)": "43"
                                },
                                {
                                    "MEGNEVEZES": "Genoterm HERLITZ 10-es",
                                    "(No column name)": "80"
                                },
                                {
                                    "MEGNEVEZES": "Genotherm A4 10db-os",
                                    "(No column name)": "100"
                                },
                                {
                                    "MEGNEVEZES": "Genotherm lefűzhető A/5",
                                    "(No column name)": "7"
                                },
                                {
                                    "MEGNEVEZES": "Genotherm lefűzhető A4 10db-os",
                                    "(No column name)": "57"
                                },
                                {
                                    "MEGNEVEZES": "Golyóstoll",
                                    "(No column name)": "30"
                                },
                                {
                                    "MEGNEVEZES": "Golyóstoll",
                                    "(No column name)": "46"
                                },
                                {
                                    "MEGNEVEZES": "Golyóstoll + ceruza Twister 2in1",
                                    "(No column name)": "354"
                                },
                                {
                                    "MEGNEVEZES": "Golyóstoll 3 funkciós ",
                                    "(No column name)": "926"
                                },
                                {
                                    "MEGNEVEZES": "Golyóstoll háromfunkciós",
                                    "(No column name)": "97"
                                },
                                {
                                    "MEGNEVEZES": "Golyóstoll háromfunkciós",
                                    "(No column name)": "100"
                                },
                                {
                                    "MEGNEVEZES": "Golyóstoll háromszög",
                                    "(No column name)": "170"
                                },
                                {
                                    "MEGNEVEZES": "Golyóstoll illatos ICO",
                                    "(No column name)": "37"
                                },
                                {
                                    "MEGNEVEZES": "Golyóstoll INOXCROM",
                                    "(No column name)": "364"
                                },
                                {
                                    "MEGNEVEZES": "Golyóstoll kétfunkciós ICO",
                                    "(No column name)": "248"
                                },
                                {
                                    "MEGNEVEZES": "Golyóstoll kétszínű",
                                    "(No column name)": "40"
                                },
                                {
                                    "MEGNEVEZES": "Golyóstoll kupakos piros",
                                    "(No column name)": "20"
                                },
                                {
                                    "MEGNEVEZES": "Golyóstoll levélbontós",
                                    "(No column name)": "267"
                                },
                                {
                                    "MEGNEVEZES": "Golyóstoll Montex Hytone",
                                    "(No column name)": "84"
                                },
                                {
                                    "MEGNEVEZES": "Golyóstoll Parker tokban",
                                    "(No column name)": "702"
                                },
                                {
                                    "MEGNEVEZES": "Golyóstoll Pax tip.",
                                    "(No column name)": "57"
                                },
                                {
                                    "MEGNEVEZES": "Golyóstoll penac",
                                    "(No column name)": "217"
                                },
                                {
                                    "MEGNEVEZES": "Golyóstoll Stabiló 308",
                                    "(No column name)": "73"
                                },
                                {
                                    "MEGNEVEZES": "Golyóstoll Stabilo piros",
                                    "(No column name)": "91"
                                },
                                {
                                    "MEGNEVEZES": "Golyóstoll UNI átlátszó",
                                    "(No column name)": "209"
                                },
                                {
                                    "MEGNEVEZES": "Golyóstoll UNI gumis",
                                    "(No column name)": "210"
                                },
                                {
                                    "MEGNEVEZES": "Golyóstoll UNI laknock",
                                    "(No column name)": "198"
                                },
                                {
                                    "MEGNEVEZES": "Golyóstoll UNIBALL 07",
                                    "(No column name)": "330"
                                },
                                {
                                    "MEGNEVEZES": "Golyóstoll Zebra 301",
                                    "(No column name)": "413"
                                },
                                {
                                    "MEGNEVEZES": "Golyóstoll Zebra mini",
                                    "(No column name)": "595"
                                },
                                {
                                    "MEGNEVEZES": "Golyóstoll Zebra new hard",
                                    "(No column name)": "171"
                                },
                                {
                                    "MEGNEVEZES": "Golyóstoll Zodiák",
                                    "(No column name)": "85"
                                },
                                {
                                    "MEGNEVEZES": "Gumigyűrű",
                                    "(No column name)": "17"
                                },
                                {
                                    "MEGNEVEZES": "Gumilabda közepes",
                                    "(No column name)": "97"
                                },
                                {
                                    "MEGNEVEZES": "Gumilabda közepes",
                                    "(No column name)": "100"
                                },
                                {
                                    "MEGNEVEZES": "Gumis mappa ",
                                    "(No column name)": "134"
                                },
                                {
                                    "MEGNEVEZES": "Gumis mappa csomagolt",
                                    "(No column name)": "177"
                                },
                                {
                                    "MEGNEVEZES": "Gumis mappa fóliázott állatos",
                                    "(No column name)": "191"
                                },
                                {
                                    "MEGNEVEZES": "Gumis mappa Köbüki",
                                    "(No column name)": "173"
                                },
                                {
                                    "MEGNEVEZES": "gyermek cipő (fiú)",
                                    "(No column name)": "7181"
                                },
                                {
                                    "MEGNEVEZES": "gyermek cipő (lány)",
                                    "(No column name)": "7181"
                                },
                                {
                                    "MEGNEVEZES": "gyermek csizma (fiú)",
                                    "(No column name)": "7272"
                                },
                                {
                                    "MEGNEVEZES": "gyermek csizma (lány)",
                                    "(No column name)": "7272"
                                },
                                {
                                    "MEGNEVEZES": "gyermek farmer nadrág (fiú)",
                                    "(No column name)": "4536"
                                },
                                {
                                    "MEGNEVEZES": "gyermek farmer nadrág (lány)",
                                    "(No column name)": "4536"
                                },
                                {
                                    "MEGNEVEZES": "gyermek kabát (fiú)",
                                    "(No column name)": "8090"
                                },
                                {
                                    "MEGNEVEZES": "gyermek kabát (lány)",
                                    "(No column name)": "8090"
                                },
                                {
                                    "MEGNEVEZES": "gyermek pamut nadrág (fiú)",
                                    "(No column name)": "1172"
                                },
                                {
                                    "MEGNEVEZES": "gyermek pamut nadrág (lány)",
                                    "(No column name)": "1172"
                                },
                                {
                                    "MEGNEVEZES": "gyermek póló (fiú)",
                                    "(No column name)": "3545"
                                },
                                {
                                    "MEGNEVEZES": "gyermek póló (lány)",
                                    "(No column name)": "245"
                                },
                                {
                                    "MEGNEVEZES": "gyermek póló (lány)",
                                    "(No column name)": "3545"
                                },
                                {
                                    "MEGNEVEZES": "gyermek szandál (fiú)",
                                    "(No column name)": "6272"
                                },
                                {
                                    "MEGNEVEZES": "gyermek szandál (lány)",
                                    "(No column name)": "6272"
                                },
                                {
                                    "MEGNEVEZES": "Gyorsfűző dosszié fehér",
                                    "(No column name)": "16"
                                },
                                {
                                    "MEGNEVEZES": "Gyorsfűző műa.",
                                    "(No column name)": "27"
                                },
                                {
                                    "MEGNEVEZES": "Gyorsfűző műa.",
                                    "(No column name)": "31"
                                },
                                {
                                    "MEGNEVEZES": "Gyurma 12 szinű",
                                    "(No column name)": "146"
                                },
                                {
                                    "MEGNEVEZES": "Gyurma színes 200 g-os",
                                    "(No column name)": "163"
                                },
                                {
                                    "MEGNEVEZES": "Gyurma színes natúr",
                                    "(No column name)": "207"
                                },
                                {
                                    "MEGNEVEZES": "Gyurmakés",
                                    "(No column name)": "110"
                                },
                                {
                                    "MEGNEVEZES": "Gyűjtőlap A/4",
                                    "(No column name)": "7"
                                },
                                {
                                    "MEGNEVEZES": "Gyűrűskönyv",
                                    "(No column name)": "528"
                                },
                                {
                                    "MEGNEVEZES": "Gyűrűskönyv bet. A/4",
                                    "(No column name)": "167"
                                },
                                {
                                    "MEGNEVEZES": "Gyűrűskönyv bet. A/5",
                                    "(No column name)": "86"
                                },
                                {
                                    "MEGNEVEZES": "Gyűrűskönyv betét A/5",
                                    "(No column name)": "198"
                                },
                                {
                                    "MEGNEVEZES": "Gyűrűskönyv színes",
                                    "(No column name)": "635"
                                },
                                {
                                    "MEGNEVEZES": "Hajgumi macis",
                                    "(No column name)": "60"
                                },
                                {
                                    "MEGNEVEZES": "Határidő napló 2010-s",
                                    "(No column name)": "661"
                                },
                                {
                                    "MEGNEVEZES": "Határidő napló A/6",
                                    "(No column name)": "421"
                                },
                                {
                                    "MEGNEVEZES": "házt.csom.  5 ív",
                                    "(No column name)": "100"
                                },
                                {
                                    "MEGNEVEZES": "Hegyező gép",
                                    "(No column name)": "795"
                                },
                                {
                                    "MEGNEVEZES": "Hegyező műanyag dupla",
                                    "(No column name)": "27"
                                },
                                {
                                    "MEGNEVEZES": "Hegyező műanyag egyes",
                                    "(No column name)": "20"
                                },
                                {
                                    "MEGNEVEZES": "Hegyező tartályos egyes",
                                    "(No column name)": "27"
                                },
                                {
                                    "MEGNEVEZES": "Hegyző fém 1 lyukú",
                                    "(No column name)": "63"
                                },
                                {
                                    "MEGNEVEZES": "Hegyző fém 2 lyukú",
                                    "(No column name)": "163"
                                },
                                {
                                    "MEGNEVEZES": "Hibajav.roll.Pritt 4,2mm",
                                    "(No column name)": "721"
                                },
                                {
                                    "MEGNEVEZES": "Hibajavító ecsetes Aqua",
                                    "(No column name)": "168"
                                },
                                {
                                    "MEGNEVEZES": "Hibajavító készlet Blanco",
                                    "(No column name)": "248"
                                },
                                {
                                    "MEGNEVEZES": "Hibajavító Kores mini pen",
                                    "(No column name)": "252"
                                },
                                {
                                    "MEGNEVEZES": "Hibajavító lap ",
                                    "(No column name)": "73"
                                },
                                {
                                    "MEGNEVEZES": "Hibajavító roller 5 mm",
                                    "(No column name)": "120"
                                },
                                {
                                    "MEGNEVEZES": "Hibajavító roller Pax",
                                    "(No column name)": "260"
                                },
                                {
                                    "MEGNEVEZES": "Hőmérő, műa.",
                                    "(No column name)": "32"
                                },
                                {
                                    "MEGNEVEZES": "Hurkapálca 10 db-os",
                                    "(No column name)": "20"
                                },
                                {
                                    "MEGNEVEZES": "Hűtőmágnes",
                                    "(No column name)": "21"
                                },
                                {
                                    "MEGNEVEZES": "Hűtőmágnes WD",
                                    "(No column name)": "153"
                                },
                                {
                                    "MEGNEVEZES": "Informatika",
                                    "(No column name)": "668"
                                },
                                {
                                    "MEGNEVEZES": "Írásvetítő fólia",
                                    "(No column name)": "73"
                                },
                                {
                                    "MEGNEVEZES": "Iratgyűjtő ESSELTE ablakos",
                                    "(No column name)": "17"
                                },
                                {
                                    "MEGNEVEZES": "Iratgyűjtő fehér",
                                    "(No column name)": "17"
                                },
                                {
                                    "MEGNEVEZES": "Iratrendező ESSELTE",
                                    "(No column name)": "220"
                                },
                                {
                                    "MEGNEVEZES": "Iratsín fehér",
                                    "(No column name)": "40"
                                },
                                {
                                    "MEGNEVEZES": "Iratsín kék",
                                    "(No column name)": "80"
                                },
                                {
                                    "MEGNEVEZES": "Irattartó müa. boríték A/4",
                                    "(No column name)": "60"
                                },
                                {
                                    "MEGNEVEZES": "irodai tűzőgép",
                                    "(No column name)": "1909"
                                },
                                {
                                    "MEGNEVEZES": "Írólap 10-50 ffam.",
                                    "(No column name)": "26"
                                },
                                {
                                    "MEGNEVEZES": "Írólap 20-50 ",
                                    "(No column name)": "30"
                                },
                                {
                                    "MEGNEVEZES": "Iromány fedél feles",
                                    "(No column name)": "53"
                                },
                                {
                                    "MEGNEVEZES": "Ironbél  2B ICO",
                                    "(No column name)": "67"
                                },
                                {
                                    "MEGNEVEZES": "Ironbél B 0,5",
                                    "(No column name)": "32"
                                },
                                {
                                    "MEGNEVEZES": "Ironbél H 0,5",
                                    "(No column name)": "53"
                                },
                                {
                                    "MEGNEVEZES": "Ironbél HB 0,5",
                                    "(No column name)": "20"
                                },
                                {
                                    "MEGNEVEZES": "Ironbél HI-POLIMER HB 0,7",
                                    "(No column name)": "70"
                                },
                                {
                                    "MEGNEVEZES": "iskolai csomagoló papír",
                                    "(No column name)": "134"
                                },
                                {
                                    "MEGNEVEZES": "Italtartó doboz",
                                    "(No column name)": "103"
                                },
                                {
                                    "MEGNEVEZES": "Játék autó",
                                    "(No column name)": "59"
                                },
                                {
                                    "MEGNEVEZES": "Játékautó Blisteres",
                                    "(No column name)": "120"
                                },
                                {
                                    "MEGNEVEZES": "Játékautó elemes",
                                    "(No column name)": "150"
                                },
                                {
                                    "MEGNEVEZES": "Játékautó mini",
                                    "(No column name)": "66"
                                },
                                {
                                    "MEGNEVEZES": "Jelzőkréta",
                                    "(No column name)": "43"
                                },
                                {
                                    "MEGNEVEZES": "Jól felkészültem-e - Fizika",
                                    "(No column name)": "264"
                                },
                                {
                                    "MEGNEVEZES": "Kapocskiszedő",
                                    "(No column name)": "96"
                                },
                                {
                                    "MEGNEVEZES": "Kártya mini Magyar",
                                    "(No column name)": "119"
                                },
                                {
                                    "MEGNEVEZES": "Képeslap  borítékos",
                                    "(No column name)": "30"
                                },
                                {
                                    "MEGNEVEZES": "Képeslap \"Nászajándék\"",
                                    "(No column name)": "167"
                                },
                                {
                                    "MEGNEVEZES": "Képeslap \"Részvét\"",
                                    "(No column name)": "30"
                                },
                                {
                                    "MEGNEVEZES": "Képeslap humoros ",
                                    "(No column name)": "50"
                                },
                                {
                                    "MEGNEVEZES": "Képeslap humoros",
                                    "(No column name)": "80"
                                },
                                {
                                    "MEGNEVEZES": "Képeslap humoros borítékos",
                                    "(No column name)": "73"
                                },
                                {
                                    "MEGNEVEZES": "Képeslap humoros kaparós",
                                    "(No column name)": "46"
                                },
                                {
                                    "MEGNEVEZES": "Képeslap karácsonyi",
                                    "(No column name)": "27"
                                },
                                {
                                    "MEGNEVEZES": "Képeslap karácsonyi borítékos",
                                    "(No column name)": "66"
                                },
                                {
                                    "MEGNEVEZES": "Képeslap karácsonyi WD",
                                    "(No column name)": "13"
                                },
                                {
                                    "MEGNEVEZES": "Képeslap kerek",
                                    "(No column name)": "32"
                                },
                                {
                                    "MEGNEVEZES": "Képeslap stancolt",
                                    "(No column name)": "53"
                                },
                                {
                                    "MEGNEVEZES": "Képeslap stancolt szív",
                                    "(No column name)": "43"
                                },
                                {
                                    "MEGNEVEZES": "Képeslap virágos",
                                    "(No column name)": "12"
                                },
                                {
                                    "MEGNEVEZES": "Képeslap virágos +boríték",
                                    "(No column name)": "40"
                                },
                                {
                                    "MEGNEVEZES": "Képeslap WD +boríték",
                                    "(No column name)": "107"
                                },
                                {
                                    "MEGNEVEZES": "Képkirakó Dirib-darab",
                                    "(No column name)": "177"
                                },
                                {
                                    "MEGNEVEZES": "Kerámiatoll",
                                    "(No column name)": "67"
                                },
                                {
                                    "MEGNEVEZES": "Kiadási pénztárbizonylat 2×25",
                                    "(No column name)": "93"
                                },
                                {
                                    "MEGNEVEZES": "kosztüm (hosszú)",
                                    "(No column name)": "41818"
                                },
                                {
                                    "MEGNEVEZES": "kosztüm (rövid)",
                                    "(No column name)": "35454"
                                },
                                {
                                    "MEGNEVEZES": "Körző",
                                    "(No column name)": "146"
                                },
                                {
                                    "MEGNEVEZES": "Körző maped",
                                    "(No column name)": "220"
                                },
                                {
                                    "MEGNEVEZES": "Körzőhegy grafit",
                                    "(No column name)": "27"
                                },
                                {
                                    "MEGNEVEZES": "Kreatív A/4 120g ",
                                    "(No column name)": "11"
                                },
                                {
                                    "MEGNEVEZES": "Kreatív A/4 300g ",
                                    "(No column name)": "3"
                                },
                                {
                                    "MEGNEVEZES": "Krepp papír",
                                    "(No column name)": "66"
                                },
                                {
                                    "MEGNEVEZES": "Kulcstartó autós",
                                    "(No column name)": "104"
                                },
                                {
                                    "MEGNEVEZES": "Kulcstartó billiárd golyós",
                                    "(No column name)": "134"
                                },
                                {
                                    "MEGNEVEZES": "Kulcstartó Csőrikés",
                                    "(No column name)": "112"
                                },
                                {
                                    "MEGNEVEZES": "Kulcstartó figurás",
                                    "(No column name)": "93"
                                },
                                {
                                    "MEGNEVEZES": "Kulcstartó intarziás állatos",
                                    "(No column name)": "140"
                                },
                                {
                                    "MEGNEVEZES": "Kulcstartó mesefigurás",
                                    "(No column name)": "32"
                                },
                                {
                                    "MEGNEVEZES": "Kulcstartó nagyítós",
                                    "(No column name)": "117"
                                },
                                {
                                    "MEGNEVEZES": "Lakk filc Edding 750",
                                    "(No column name)": "394"
                                },
                                {
                                    "MEGNEVEZES": "Lampion",
                                    "(No column name)": "66"
                                },
                                {
                                    "MEGNEVEZES": "lány alsó",
                                    "(No column name)": "354"
                                },
                                {
                                    "MEGNEVEZES": "lány harisnya",
                                    "(No column name)": "873"
                                },
                                {
                                    "MEGNEVEZES": "lány harisnya",
                                    "(No column name)": "900"
                                },
                                {
                                    "MEGNEVEZES": "lány ünneplős ruha",
                                    "(No column name)": "15363"
                                },
                                {
                                    "MEGNEVEZES": "lány zokni",
                                    "(No column name)": "218"
                                },
                                {
                                    "MEGNEVEZES": "Leckefüzet",
                                    "(No column name)": "146"
                                },
                                {
                                    "MEGNEVEZES": "Levélpapír A/4",
                                    "(No column name)": "13"
                                },
                                {
                                    "MEGNEVEZES": "Levélpapír állatos",
                                    "(No column name)": "127"
                                },
                                {
                                    "MEGNEVEZES": "Levélpapír sima",
                                    "(No column name)": "50"
                                },
                                {
                                    "MEGNEVEZES": "Levélpapír szett ",
                                    "(No column name)": "67"
                                },
                                {
                                    "MEGNEVEZES": "Levélpapír szett",
                                    "(No column name)": "80"
                                },
                                {
                                    "MEGNEVEZES": "Levélpapír szett natur, mintás",
                                    "(No column name)": "93"
                                },
                                {
                                    "MEGNEVEZES": "Levélpapír szett virágos",
                                    "(No column name)": "153"
                                },
                                {
                                    "MEGNEVEZES": "Logikai készlet",
                                    "(No column name)": "117"
                                },
                                {
                                    "MEGNEVEZES": "Lufi formázható",
                                    "(No column name)": "13"
                                },
                                {
                                    "MEGNEVEZES": "Lufi hullámos",
                                    "(No column name)": "10"
                                },
                                {
                                    "MEGNEVEZES": "Lyukasztó BOXER",
                                    "(No column name)": "695"
                                },
                                {
                                    "MEGNEVEZES": "Lyukasztó EAGLE",
                                    "(No column name)": "478"
                                },
                                {
                                    "MEGNEVEZES": "Mappa bemutató",
                                    "(No column name)": "167"
                                },
                                {
                                    "MEGNEVEZES": "Mappa bőr A5",
                                    "(No column name)": "1604"
                                },
                                {
                                    "MEGNEVEZES": "Mappa müa A/4",
                                    "(No column name)": "190"
                                },
                                {
                                    "MEGNEVEZES": "Mappa PVC villámzáras",
                                    "(No column name)": "240"
                                },
                                {
                                    "MEGNEVEZES": "Mappa PVC villámzáras  képes",
                                    "(No column name)": "327"
                                },
                                {
                                    "MEGNEVEZES": "Márványos A/4",
                                    "(No column name)": "36"
                                },
                                {
                                    "MEGNEVEZES": "Matematika gyakorló 2",
                                    "(No column name)": "366"
                                },
                                {
                                    "MEGNEVEZES": "Matematika gyakorló 3",
                                    "(No column name)": "366"
                                },
                                {
                                    "MEGNEVEZES": "Matematika gyakorló 4",
                                    "(No column name)": "366"
                                },
                                {
                                    "MEGNEVEZES": "Matrica állatos",
                                    "(No column name)": "50"
                                },
                                {
                                    "MEGNEVEZES": "Matrica autóra H",
                                    "(No column name)": "44"
                                },
                                {
                                    "MEGNEVEZES": "Matrica motoros kicsi",
                                    "(No column name)": "44"
                                },
                                {
                                    "MEGNEVEZES": "Matrica Stickers nagy állatos",
                                    "(No column name)": "99"
                                },
                                {
                                    "MEGNEVEZES": "Matrica Stickers szíves",
                                    "(No column name)": "84"
                                },
                                {
                                    "MEGNEVEZES": "Matrica Test ékszer tattoo",
                                    "(No column name)": "146"
                                },
                                {
                                    "MEGNEVEZES": "Matrica tetoválás",
                                    "(No column name)": "152"
                                },
                                {
                                    "MEGNEVEZES": "Matrica tetoválós kicsi",
                                    "(No column name)": "134"
                                },
                                {
                                    "MEGNEVEZES": "Matrica világítós ",
                                    "(No column name)": "159"
                                },
                                {
                                    "MEGNEVEZES": "Matrica WD kicsi",
                                    "(No column name)": "50"
                                },
                                {
                                    "MEGNEVEZES": "Meghívó állatos",
                                    "(No column name)": "140"
                                },
                                {
                                    "MEGNEVEZES": "Meghívó ballagási",
                                    "(No column name)": "57"
                                },
                                {
                                    "MEGNEVEZES": "Meghívó borítékos",
                                    "(No column name)": "153"
                                },
                                {
                                    "MEGNEVEZES": "Mikulás zacskó",
                                    "(No column name)": "10"
                                },
                                {
                                    "MEGNEVEZES": "Miliméterpapír",
                                    "(No column name)": "7"
                                },
                                {
                                    "MEGNEVEZES": "Műanyag állatok",
                                    "(No column name)": "40"
                                },
                                {
                                    "MEGNEVEZES": "Műanyag foszforeszkáló állat",
                                    "(No column name)": "20"
                                },
                                {
                                    "MEGNEVEZES": "Műanyag pohár 1 dl-es",
                                    "(No column name)": "2"
                                },
                                {
                                    "MEGNEVEZES": "Műanyag pohár 5 cl-es",
                                    "(No column name)": "13"
                                },
                                {
                                    "MEGNEVEZES": "Műnyomó 300g 17,5*20",
                                    "(No column name)": "2"
                                },
                                {
                                    "MEGNEVEZES": "Naptár 24-es",
                                    "(No column name)": "80"
                                },
                                {
                                    "MEGNEVEZES": "Naptárhát kicsi",
                                    "(No column name)": "13"
                                },
                                {
                                    "MEGNEVEZES": "Naptárhát nagy",
                                    "(No column name)": "70"
                                },
                                {
                                    "MEGNEVEZES": "Névjegytartó kicsi",
                                    "(No column name)": "281"
                                },
                                {
                                    "MEGNEVEZES": "Notesz A/5 sima",
                                    "(No column name)": "93"
                                },
                                {
                                    "MEGNEVEZES": "Notesz A/5 sima spirál",
                                    "(No column name)": "80"
                                },
                                {
                                    "MEGNEVEZES": "Notesz A/6 College",
                                    "(No column name)": "50"
                                },
                                {
                                    "MEGNEVEZES": "Notesz mintás",
                                    "(No column name)": "40"
                                },
                                {
                                    "MEGNEVEZES": "Notesz sima spirál College",
                                    "(No column name)": "93"
                                },
                                {
                                    "MEGNEVEZES": "női alsó",
                                    "(No column name)": "627"
                                },
                                {
                                    "MEGNEVEZES": "női farmer nadrág",
                                    "(No column name)": "7536"
                                },
                                {
                                    "MEGNEVEZES": "női koktélruha",
                                    "(No column name)": "29090"
                                },
                                {
                                    "MEGNEVEZES": "női szövet kabát",
                                    "(No column name)": "21818"
                                },
                                {
                                    "MEGNEVEZES": "Oki toner C",
                                    "(No column name)": "12954"
                                },
                                {
                                    "MEGNEVEZES": "Oklevél A/4 egyszínű",
                                    "(No column name)": "43"
                                },
                                {
                                    "MEGNEVEZES": "Oklevél A/4 színes",
                                    "(No column name)": "50"
                                },
                                {
                                    "MEGNEVEZES": "Olló gyerek ",
                                    "(No column name)": "120"
                                },
                                {
                                    "MEGNEVEZES": "Olló Tagit 18 cm-es",
                                    "(No column name)": "160"
                                },
                                {
                                    "MEGNEVEZES": "Olló, iskolai",
                                    "(No column name)": "146"
                                },
                                {
                                    "MEGNEVEZES": "Öntapadó A/4",
                                    "(No column name)": "4159"
                                },
                                {
                                    "MEGNEVEZES": "Öntapadós hologramos papír A/4",
                                    "(No column name)": "53"
                                },
                                {
                                    "MEGNEVEZES": "Öntapadős betűk",
                                    "(No column name)": "67"
                                },
                                {
                                    "MEGNEVEZES": "Összefoglaló feladatgyüjtemény számtech.",
                                    "(No column name)": "713"
                                },
                                {
                                    "MEGNEVEZES": "Papírcenti 100 cm-es",
                                    "(No column name)": "8"
                                },
                                {
                                    "MEGNEVEZES": "Papízsebkendő,10db Szindy",
                                    "(No column name)": "18"
                                },
                                {
                                    "MEGNEVEZES": "Pausz papír A/4",
                                    "(No column name)": "13"
                                },
                                {
                                    "MEGNEVEZES": "Pénztárgépsz. 2 pl. nem öníró",
                                    "(No column name)": "73"
                                },
                                {
                                    "MEGNEVEZES": "Pénztárgépszalag 2pl SC 57.5/60",
                                    "(No column name)": "84"
                                },
                                {
                                    "MEGNEVEZES": "Pill.ragasztó",
                                    "(No column name)": "93"
                                },
                                {
                                    "MEGNEVEZES": "Pixiron  UNI",
                                    "(No column name)": "250"
                                },
                                {
                                    "MEGNEVEZES": "Pixiron 0,7 Handy",
                                    "(No column name)": "113"
                                },
                                {
                                    "MEGNEVEZES": "Pixiron Centrum",
                                    "(No column name)": "53"
                                },
                                {
                                    "MEGNEVEZES": "Pixiron Handy fém",
                                    "(No column name)": "120"
                                },
                                {
                                    "MEGNEVEZES": "Pixiron Handy műanyag",
                                    "(No column name)": "85"
                                },
                                {
                                    "MEGNEVEZES": "Pixiron KOH-I-NOOR",
                                    "(No column name)": "425"
                                },
                                {
                                    "MEGNEVEZES": "Pixiron mini ",
                                    "(No column name)": "53"
                                },
                                {
                                    "MEGNEVEZES": "Pixiron Penac",
                                    "(No column name)": "213"
                                },
                                {
                                    "MEGNEVEZES": "Pixiron Pentel színes",
                                    "(No column name)": "271"
                                },
                                {
                                    "MEGNEVEZES": "Plüss  QX állatok",
                                    "(No column name)": "157"
                                },
                                {
                                    "MEGNEVEZES": "Plüss kicsi",
                                    "(No column name)": "146"
                                },
                                {
                                    "MEGNEVEZES": "Plüss sárkány",
                                    "(No column name)": "285"
                                },
                                {
                                    "MEGNEVEZES": "Post-it 51×38 100 lapos",
                                    "(No column name)": "32"
                                },
                                {
                                    "MEGNEVEZES": "Post-it 75×75 100 lapos",
                                    "(No column name)": "80"
                                },
                                {
                                    "MEGNEVEZES": "Radír gyümölcsös",
                                    "(No column name)": "36"
                                },
                                {
                                    "MEGNEVEZES": "Radír Koh-i-nor 40",
                                    "(No column name)": "32"
                                },
                                {
                                    "MEGNEVEZES": "Radír KOH-I-NOR 80",
                                    "(No column name)": "17"
                                },
                                {
                                    "MEGNEVEZES": "Radír Maped",
                                    "(No column name)": "40"
                                },
                                {
                                    "MEGNEVEZES": "Radír stabilo",
                                    "(No column name)": "40"
                                },
                                {
                                    "MEGNEVEZES": "Radír Tikky 30 ",
                                    "(No column name)": "45"
                                },
                                {
                                    "MEGNEVEZES": "Radír Tikky 40 ",
                                    "(No column name)": "44"
                                },
                                {
                                    "MEGNEVEZES": "Radírtoll betét ER100",
                                    "(No column name)": "67"
                                },
                                {
                                    "MEGNEVEZES": "Radírtoll betét vastag",
                                    "(No column name)": "108"
                                },
                                {
                                    "MEGNEVEZES": "Ragasztó 8 g Pritt",
                                    "(No column name)": "73"
                                },
                                {
                                    "MEGNEVEZES": "Ragasztó 9 g Pax",
                                    "(No column name)": "97"
                                },
                                {
                                    "MEGNEVEZES": "Ragasztó 9 g Pax",
                                    "(No column name)": "100"
                                },
                                {
                                    "MEGNEVEZES": "Ragasztó Gyurma",
                                    "(No column name)": "266"
                                },
                                {
                                    "MEGNEVEZES": "Ragasztó kenőfejes Nebuló",
                                    "(No column name)": "91"
                                },
                                {
                                    "MEGNEVEZES": "Ragasztó kores",
                                    "(No column name)": "80"
                                },
                                {
                                    "MEGNEVEZES": "Ragasztó szalag KORES ",
                                    "(No column name)": "120"
                                },
                                {
                                    "MEGNEVEZES": "Ragasztó, Technokol 35g kék",
                                    "(No column name)": "130"
                                },
                                {
                                    "MEGNEVEZES": "Ragasztó, Technokol 35g piros",
                                    "(No column name)": "130"
                                },
                                {
                                    "MEGNEVEZES": "Ragasztószalag  TIXO",
                                    "(No column name)": "13"
                                },
                                {
                                    "MEGNEVEZES": "Ragasztószalag 19 mm-es",
                                    "(No column name)": "50"
                                },
                                {
                                    "MEGNEVEZES": "Ragasztószalag 19 mm-es SCOTCH+ tépő",
                                    "(No column name)": "387"
                                },
                                {
                                    "MEGNEVEZES": "Ragasztószalag nagy 12 mm",
                                    "(No column name)": "57"
                                },
                                {
                                    "MEGNEVEZES": "Ragasztószalag széles barna",
                                    "(No column name)": "150"
                                },
                                {
                                    "MEGNEVEZES": "Rágógumi Orbit",
                                    "(No column name)": "80"
                                },
                                {
                                    "MEGNEVEZES": "Rajzlap A/4 10db ffam.",
                                    "(No column name)": "25"
                                },
                                {
                                    "MEGNEVEZES": "Rajzszeg",
                                    "(No column name)": "57"
                                },
                                {
                                    "MEGNEVEZES": "Rajzszeg színes",
                                    "(No column name)": "96"
                                },
                                {
                                    "MEGNEVEZES": "RAMba zárt világ",
                                    "(No column name)": "789"
                                },
                                {
                                    "MEGNEVEZES": "Regiszteres füzet A4",
                                    "(No column name)": "232"
                                },
                                {
                                    "MEGNEVEZES": "Regiszteres füzet A5 Hightech",
                                    "(No column name)": "184"
                                },
                                {
                                    "MEGNEVEZES": "Rovatolt papír 20 íves",
                                    "(No column name)": "93"
                                },
                                {
                                    "MEGNEVEZES": "sál",
                                    "(No column name)": "1809"
                                },
                                {
                                    "MEGNEVEZES": "Selyemfényű karton A/4",
                                    "(No column name)": "34"
                                },
                                {
                                    "MEGNEVEZES": "Sorvezető",
                                    "(No column name)": "7"
                                },
                                {
                                    "MEGNEVEZES": "Sp.Füzet A/4  70es",
                                    "(No column name)": "130"
                                },
                                {
                                    "MEGNEVEZES": "Sp.Füzet A/4  perforált, lyuk.",
                                    "(No column name)": "187"
                                },
                                {
                                    "MEGNEVEZES": "Sp.Füzet A/4 70-as",
                                    "(No column name)": "140"
                                },
                                {
                                    "MEGNEVEZES": "Sp.Füzet A/5 70-es",
                                    "(No column name)": "80"
                                },
                                {
                                    "MEGNEVEZES": "Spirál 1/4 ",
                                    "(No column name)": "40"
                                },
                                {
                                    "MEGNEVEZES": "Strandlabda ",
                                    "(No column name)": "323"
                                },
                                {
                                    "MEGNEVEZES": "Szalvéta ",
                                    "(No column name)": "160"
                                },
                                {
                                    "MEGNEVEZES": "Szalvéta dekor",
                                    "(No column name)": "120"
                                },
                                {
                                    "MEGNEVEZES": "Szalvéta egyszínű",
                                    "(No column name)": "107"
                                },
                                {
                                    "MEGNEVEZES": "Szalvéta Goma húsvéti",
                                    "(No column name)": "159"
                                },
                                {
                                    "MEGNEVEZES": "Szalvéta gyűjtőknek",
                                    "(No column name)": "166"
                                },
                                {
                                    "MEGNEVEZES": "Szalvéta kicsi virágos",
                                    "(No column name)": "146"
                                },
                                {
                                    "MEGNEVEZES": "Szám.tech. kicsiknek",
                                    "(No column name)": "194"
                                },
                                {
                                    "MEGNEVEZES": "Számegyenes",
                                    "(No column name)": "32"
                                },
                                {
                                    "MEGNEVEZES": "Számológép Roxin",
                                    "(No column name)": "461"
                                },
                                {
                                    "MEGNEVEZES": "Számológép tudományos",
                                    "(No column name)": "1066"
                                },
                                {
                                    "MEGNEVEZES": "Számolókorong",
                                    "(No column name)": "31"
                                },
                                {
                                    "MEGNEVEZES": "Számolópálca",
                                    "(No column name)": "55"
                                },
                                {
                                    "MEGNEVEZES": "Szemetes zsák 60 literes",
                                    "(No column name)": "117"
                                },
                                {
                                    "MEGNEVEZES": "Szilvia csomagoló",
                                    "(No column name)": "80"
                                },
                                {
                                    "MEGNEVEZES": "Színes A/3 160 gr IQ",
                                    "(No column name)": "10"
                                },
                                {
                                    "MEGNEVEZES": "Színes ceruza 12 szín",
                                    "(No column name)": "146"
                                },
                                {
                                    "MEGNEVEZES": "Színes ceruza 6-os",
                                    "(No column name)": "90"
                                },
                                {
                                    "MEGNEVEZES": "Színes karton A4",
                                    "(No column name)": "22"
                                },
                                {
                                    "MEGNEVEZES": "Színes másoló a/4 80g",
                                    "(No column name)": "1363"
                                },
                                {
                                    "MEGNEVEZES": "Színes ofszet B/4",
                                    "(No column name)": "3"
                                },
                                {
                                    "MEGNEVEZES": "Színes papír I.II-IV.V-VIII-ig",
                                    "(No column name)": "39"
                                },
                                {
                                    "MEGNEVEZES": "Szorzótábla műanyag",
                                    "(No column name)": "40"
                                },
                                {
                                    "MEGNEVEZES": "Szótárfüzet Lizzy",
                                    "(No column name)": "146"
                                },
                                {
                                    "MEGNEVEZES": "Szögmérő 180 fokos műa.",
                                    "(No column name)": "21"
                                },
                                {
                                    "MEGNEVEZES": "Szögmérő papír",
                                    "(No column name)": "10"
                                },
                                {
                                    "MEGNEVEZES": "Szögmérő színes",
                                    "(No column name)": "7"
                                },
                                {
                                    "MEGNEVEZES": "Szövegkiemelő",
                                    "(No column name)": "70"
                                },
                                {
                                    "MEGNEVEZES": "Szövegkiemelő ",
                                    "(No column name)": "84"
                                },
                                {
                                    "MEGNEVEZES": "Szövegkiemelő Staedtler",
                                    "(No column name)": "127"
                                },
                                {
                                    "MEGNEVEZES": "Szövegkiemelő vékony",
                                    "(No column name)": "80"
                                },
                                {
                                    "MEGNEVEZES": "Szövegkiemelő Videotip",
                                    "(No column name)": "93"
                                },
                                {
                                    "MEGNEVEZES": "Szövegszerkesztés",
                                    "(No column name)": "628"
                                },
                                {
                                    "MEGNEVEZES": "Táblafilc",
                                    "(No column name)": "575"
                                },
                                {
                                    "MEGNEVEZES": "Taffet papír",
                                    "(No column name)": "17"
                                },
                                {
                                    "MEGNEVEZES": "Talpas tasak",
                                    "(No column name)": "36"
                                },
                                {
                                    "MEGNEVEZES": "Tapétavágó kés",
                                    "(No column name)": "36"
                                },
                                {
                                    "MEGNEVEZES": "Technika cs. I-II-III-IV",
                                    "(No column name)": "52"
                                },
                                {
                                    "MEGNEVEZES": "Tempera szóló ezüst",
                                    "(No column name)": "87"
                                },
                                {
                                    "MEGNEVEZES": "Tempera szóló színes",
                                    "(No column name)": "43"
                                },
                                {
                                    "MEGNEVEZES": "Tenisz labda",
                                    "(No column name)": "73"
                                },
                                {
                                    "MEGNEVEZES": "Térképtű színes",
                                    "(No column name)": "93"
                                },
                                {
                                    "MEGNEVEZES": "Tintapatron /kék/",
                                    "(No column name)": "8"
                                },
                                {
                                    "MEGNEVEZES": "Tintapatron 30 db-os kék",
                                    "(No column name)": "327"
                                },
                                {
                                    "MEGNEVEZES": "Tintapatron színes",
                                    "(No column name)": "10"
                                },
                                {
                                    "MEGNEVEZES": "Tokos iratrendező",
                                    "(No column name)": "235"
                                },
                                {
                                    "MEGNEVEZES": "Toll Centropen roller",
                                    "(No column name)": "72"
                                },
                                {
                                    "MEGNEVEZES": "Tolltartó 1 zipzáros",
                                    "(No column name)": "661"
                                },
                                {
                                    "MEGNEVEZES": "Tolltartó 2 részes NG.",
                                    "(No column name)": "695"
                                },
                                {
                                    "MEGNEVEZES": "Tolltartó 2 zipzáros töltött",
                                    "(No column name)": "661"
                                },
                                {
                                    "MEGNEVEZES": "Tolltartó asztali",
                                    "(No column name)": "595"
                                },
                                {
                                    "MEGNEVEZES": "Tolltartó Garfield",
                                    "(No column name)": "372"
                                },
                                {
                                    "MEGNEVEZES": "Tolltartó hengeres ",
                                    "(No column name)": "373"
                                },
                                {
                                    "MEGNEVEZES": "Tolltartó zipzáras",
                                    "(No column name)": "294"
                                },
                                {
                                    "MEGNEVEZES": "Tombola tömb",
                                    "(No column name)": "113"
                                },
                                {
                                    "MEGNEVEZES": "Tornazsák",
                                    "(No column name)": "464"
                                },
                                {
                                    "MEGNEVEZES": "Töltőtoll tinta ",
                                    "(No column name)": "448"
                                },
                                {
                                    "MEGNEVEZES": "Tűzőgép Boxer ",
                                    "(No column name)": "260"
                                },
                                {
                                    "MEGNEVEZES": "Tűzőgép Boxer 10",
                                    "(No column name)": "308"
                                },
                                {
                                    "MEGNEVEZES": "Tűzőgép EAGLE",
                                    "(No column name)": "368"
                                },
                                {
                                    "MEGNEVEZES": "Tűzőgép mini",
                                    "(No column name)": "398"
                                },
                                {
                                    "MEGNEVEZES": "Tűzőgép SAX 239",
                                    "(No column name)": "1228"
                                },
                                {
                                    "MEGNEVEZES": "Tűzőkapocs 10-es",
                                    "(No column name)": "40"
                                },
                                {
                                    "MEGNEVEZES": "Tűzőkapocs 24/6",
                                    "(No column name)": "30"
                                },
                                {
                                    "MEGNEVEZES": "Vízfesték  12 színű nagy",
                                    "(No column name)": "226"
                                },
                                {
                                    "MEGNEVEZES": "Vízfesték 12 db-os ",
                                    "(No column name)": "190"
                                },
                                {
                                    "MEGNEVEZES": "Vízfesték 12 színű kerek",
                                    "(No column name)": "163"
                                },
                                {
                                    "MEGNEVEZES": "Vízfesték 12db-os kínai",
                                    "(No column name)": "160"
                                },
                                {
                                    "MEGNEVEZES": "Vonalzó 15 cm-es ESSELTE",
                                    "(No column name)": "52"
                                },
                                {
                                    "MEGNEVEZES": "Vonalzó 16 cm-es LIZZY",
                                    "(No column name)": "27"
                                },
                                {
                                    "MEGNEVEZES": "Vonalzó 20 cm-es ",
                                    "(No column name)": "27"
                                },
                                {
                                    "MEGNEVEZES": "Vonalzó 30 cm",
                                    "(No column name)": "27"
                                },
                                {
                                    "MEGNEVEZES": "Vonalzó 45 fokos",
                                    "(No column name)": "27"
                                },
                                {
                                    "MEGNEVEZES": "Vonalzó 60 fokos",
                                    "(No column name)": "30"
                                },
                                {
                                    "MEGNEVEZES": "Zászló papír",
                                    "(No column name)": "18"
                                },
                                {
                                    "MEGNEVEZES": "Zselés toll ",
                                    "(No column name)": "86"
                                },
                                {
                                    "MEGNEVEZES": "Zselés toll MICRO",
                                    "(No column name)": "60"
                                },
                                {
                                    "MEGNEVEZES": "Zselés toll Muhnwa",
                                    "(No column name)": "146"
                                },
                                {
                                    "MEGNEVEZES": "Zseléstoll Lizzy Card",
                                    "(No column name)": "207"
                                }
                            ]
                        },
                        "text/html": [
                            "<table>",
                            "<tr><th>MEGNEVEZES</th><th>(No column name)</th><th>(No column name)</th></tr>",
                            "<tr><td>A föld amelyen élünk - Európa földrajza</td><td>990</td><td>990</td></tr>",
                            "<tr><td>A föld amelyen élünk - Hazánk földrajza</td><td>990</td><td>990</td></tr>",
                            "<tr><td>A föld amelyen élünk - munkafüzet</td><td>400</td><td>400</td></tr>",
                            "<tr><td>A föld amelyen élünk - Távoli földrészek</td><td>990</td><td>990</td></tr>",
                            "<tr><td>Ablakkréta</td><td>146</td><td>146</td></tr>",
                            "<tr><td>Ajándék cs. 2×100×70</td><td>134</td><td>134</td></tr>",
                            "<tr><td>Ajándék cs. húsvéti</td><td>96</td><td>96</td></tr>",
                            "<tr><td>Ajándék cs. húsvéti 200x70</td><td>200</td><td>200</td></tr>",
                            "<tr><td>Ajándék cs. tasak italos</td><td>168</td><td>168</td></tr>",
                            "<tr><td>Ajándék cs. tasak italos, fólia</td><td>17</td><td>17</td></tr>",
                            "<tr><td>Ajándék cs. tasak kicsi</td><td>23</td><td>23</td></tr>",
                            "<tr><td>Ajándék cs. tasak kicsi</td><td>93</td><td>93</td></tr>",
                            "<tr><td>Ajándék cs. tasak közepes</td><td>134</td><td>134</td></tr>",
                            "<tr><td>Ajándék cs. tasak mintás kicsi</td><td>23</td><td>23</td></tr>",
                            "<tr><td>Ajándék cs. tasak mintás nagy</td><td>187</td><td>187</td></tr>",
                            "<tr><td>Ajándék cs. tasak virágos nagy</td><td>263</td><td>263</td></tr>",
                            "<tr><td>Ajándék csom. 100x70 metál</td><td>134</td><td>134</td></tr>",
                            "<tr><td>Ajándék csom. 150x70</td><td>187</td><td>187</td></tr>",
                            "<tr><td>Ajándék csom. 200x70</td><td>113</td><td>113</td></tr>",
                            "<tr><td>Ajándék csom. 50x70 húsvéti</td><td>58</td><td>58</td></tr>",
                            "<tr><td>Ajándék csom. 70x50 metál</td><td>73</td><td>73</td></tr>",
                            "<tr><td>Ajándék csom. gyűrt</td><td>153</td><td>153</td></tr>",
                            "<tr><td>Ajándék csom. gyűrt 50x70 </td><td>110</td><td>110</td></tr>",
                            "<tr><td>Ajándék csom. Krepp</td><td>50</td><td>50</td></tr>",
                            "<tr><td>Ajándék csom. nagy  </td><td>40</td><td>40</td></tr>",
                            "<tr><td>Ajándék csom. vékony</td><td>20</td><td>20</td></tr>",
                            "<tr><td>Ajándék csomagoló tasak</td><td>168</td><td>168</td></tr>",
                            "<tr><td>Ajándék csomagoló tasak lézeres</td><td>194</td><td>194</td></tr>",
                            "<tr><td>Álarc</td><td>80</td><td>80</td></tr>",
                            "<tr><td>Álarc fejdísz</td><td>130</td><td>130</td></tr>",
                            "<tr><td>Álarc szemüveg</td><td>130</td><td>130</td></tr>",
                            "<tr><td>Álló irattartó</td><td>194</td><td>194</td></tr>",
                            "<tr><td>Álló irattartó karton</td><td>120</td><td>120</td></tr>",
                            "<tr><td>Alufólia 10 m-es</td><td>107</td><td>107</td></tr>",
                            "<tr><td>Alufólia 20 m-es</td><td>194</td><td>194</td></tr>",
                            "<tr><td>Anyanyelvi gyakorló 2</td><td>266</td><td>266</td></tr>",
                            "<tr><td>Anyanyelvi gyakorló 3</td><td>320</td><td>320</td></tr>",
                            "<tr><td>Árazószalag </td><td>96</td><td>96</td></tr>",
                            "<tr><td>Átírótömb A/6</td><td>104</td><td>104</td></tr>",
                            "<tr><td>Beíró A/5 kockás</td><td>207</td><td>207</td></tr>",
                            "<tr><td>Beírókönyv A4</td><td>298</td><td>298</td></tr>",
                            "<tr><td>Beírókönyv A5 </td><td>120</td><td>120</td></tr>",
                            "<tr><td>Bélyegző IDEAL 50</td><td>709</td><td>709</td></tr>",
                            "<tr><td>Bélyegző párna</td><td>590</td><td>590</td></tr>",
                            "<tr><td>Bélyegző pocket</td><td>1251</td><td>1251</td></tr>",
                            "<tr><td>Bélyegző RP 18-47</td><td>1042</td><td>1042</td></tr>",
                            "<tr><td>Bélyegzőfesték </td><td>270</td><td>270</td></tr>",
                            "<tr><td>Bérlet tok</td><td>21</td><td>21</td></tr>",
                            "<tr><td>Betűtartó sin</td><td>30</td><td>30</td></tr>",
                            "<tr><td>Bevételi pénztárbizonylat 3×25</td><td>130</td><td>130</td></tr>",
                            "<tr><td>Boríték B/4-es</td><td>16</td><td>16</td></tr>",
                            "<tr><td>Boríték C/4-es</td><td>13</td><td>13</td></tr>",
                            "<tr><td>Boríték LA 4 francia</td><td>5</td><td>5</td></tr>",
                            "<tr><td>Boríték LC 5</td><td>5</td><td>5</td></tr>",
                            "<tr><td>Boríték LC 6</td><td>2</td><td>2</td></tr>",
                            "<tr><td>Boríték légp. kicsi</td><td>35</td><td>35</td></tr>",
                            "<tr><td>Boríték mintás</td><td>13</td><td>13</td></tr>",
                            "<tr><td>CD tartó tok</td><td>27</td><td>27</td></tr>",
                            "<tr><td>Celofán</td><td>41</td><td>41</td></tr>",
                            "<tr><td>Celofán 50 db-os</td><td>66</td><td>66</td></tr>",
                            "<tr><td>Ceruza 2H-3B Koh-i-nor</td><td>48</td><td>48</td></tr>",
                            "<tr><td>Ceruza 2H-4B</td><td>35</td><td>35</td></tr>",
                            "<tr><td>Ceruza arany, ezüst</td><td>50</td><td>50</td></tr>",
                            "<tr><td>Ceruza Conté zöld</td><td>36</td><td>36</td></tr>",
                            "<tr><td>Ceruza Cseh</td><td>27</td><td>27</td></tr>",
                            "<tr><td>Ceruza háromszög </td><td>35</td><td>35</td></tr>",
                            "<tr><td>Ceruza HB radiros</td><td>20</td><td>20</td></tr>",
                            "<tr><td>Ceruza kártyás</td><td>50</td><td>50</td></tr>",
                            "<tr><td>Ceruza kínai</td><td>10</td><td>10</td></tr>",
                            "<tr><td>Ceruza piros-kék</td><td>53</td><td>53</td></tr>",
                            "<tr><td>Ceruza piros-kék vékony</td><td>36</td><td>36</td></tr>",
                            "<tr><td>Ceruza Progresso</td><td>96</td><td>96</td></tr>",
                            "<tr><td>Ceruza radíros kínai</td><td>10</td><td>10</td></tr>",
                            "<tr><td>Ceruza smaragd</td><td>52</td><td>52</td></tr>",
                            "<tr><td>Ceruza stabilo opera</td><td>40</td><td>40</td></tr>",
                            "<tr><td>Ceruza stabilo swano</td><td>32</td><td>32</td></tr>",
                            "<tr><td>Ceruza szén</td><td>132</td><td>132</td></tr>",
                            "<tr><td>Ceruza szorzótáblás</td><td>31</td><td>31</td></tr>",
                            "<tr><td>Ceruza zöld színű</td><td>36</td><td>36</td></tr>",
                            "<tr><td>Ceruzafogó</td><td>32</td><td>32</td></tr>",
                            "<tr><td>Címke 8 db-os</td><td>23</td><td>23</td></tr>",
                            "<tr><td>Címke egyszínű</td><td>18</td><td>18</td></tr>",
                            "<tr><td>Címke WD. állat</td><td>28</td><td>28</td></tr>",
                            "<tr><td>Color Copy 160 g-os </td><td>12</td><td>12</td></tr>",
                            "<tr><td>Color Copy A/4 250 g</td><td>13</td><td>13</td></tr>",
                            "<tr><td>Color Copy A4 120 g</td><td>9</td><td>9</td></tr>",
                            "<tr><td>Color Copy A4 200 g</td><td>12</td><td>12</td></tr>",
                            "<tr><td>Dekorációs karton</td><td>66</td><td>66</td></tr>",
                            "<tr><td>Dekorációs karton arany, ezüst</td><td>80</td><td>80</td></tr>",
                            "<tr><td>Dipa A/4 keretezett</td><td>8</td><td>8</td></tr>",
                            "<tr><td>Díszdoboz kar.</td><td>55</td><td>55</td></tr>",
                            "<tr><td>Díszdoboz tollnak 2 db-os</td><td>60</td><td>60</td></tr>",
                            "<tr><td>Díszdoboz tollnak 2 db-os keskeny</td><td>40</td><td>40</td></tr>",
                            "<tr><td>Diszkötöző szalag arany</td><td>40</td><td>40</td></tr>",
                            "<tr><td>Díszkötöző szalag metál kicsi</td><td>13</td><td>13</td></tr>",
                            "<tr><td>Díszkötöző szalag metál nagy</td><td>23</td><td>23</td></tr>",
                            "<tr><td>Díszkötöző szalag vékony</td><td>13</td><td>13</td></tr>",
                            "<tr><td>Diszkötöző széles szalag</td><td>73</td><td>73</td></tr>",
                            "<tr><td>Dvd</td><td>120</td><td>120</td></tr>",
                            "<tr><td>Ecset Centrum 10,11,12</td><td>36</td><td>36</td></tr>",
                            "<tr><td>Ecset Centrum 7,8,9</td><td>30</td><td>30</td></tr>",
                            "<tr><td>Ecset Deák 2-es</td><td>54</td><td>54</td></tr>",
                            "<tr><td>Ecset Lizzy 10-es</td><td>59</td><td>59</td></tr>",
                            "<tr><td>Ecset Nebuló 10-es</td><td>71</td><td>71</td></tr>",
                            "<tr><td>Ecset Nebulo 4-es</td><td>32</td><td>32</td></tr>",
                            "<tr><td>Ecsetkészlet</td><td>163</td><td>163</td></tr>",
                            "<tr><td>Egészségügyi könyv</td><td>46</td><td>46</td></tr>",
                            "<tr><td>Ellenőrzőborító</td><td>4</td><td>4</td></tr>",
                            "<tr><td>Előlap spirálhoz</td><td>22</td><td>22</td></tr>",
                            "<tr><td>Emlékkönyv</td><td>287</td><td>287</td></tr>",
                            "<tr><td>Emlékkönyv</td><td>478</td><td>478</td></tr>",
                            "<tr><td>Emlékkönyv lakatos</td><td>408</td><td>408</td></tr>",
                            "<tr><td>Emléklap A/5</td><td>23</td><td>23</td></tr>",
                            "<tr><td>Érettségi felv. fel. Biológia</td><td>400</td><td>400</td></tr>",
                            "<tr><td>Érettségi felv. fel. Fizika</td><td>400</td><td>400</td></tr>",
                            "<tr><td>Érettségi felv. fel. Matematika</td><td>654</td><td>654</td></tr>",
                            "<tr><td>Esküvői meghívó</td><td>53</td><td>53</td></tr>",
                            "<tr><td>Fax papír 15 m</td><td>146</td><td>146</td></tr>",
                            "<tr><td>Fehér másoló A/3</td><td>1352</td><td>1352</td></tr>",
                            "<tr><td>Fehér másoló A/4</td><td>623</td><td>623</td></tr>",
                            "<tr><td>félfamentes rajzlap A4 (10 lap)</td><td>310</td><td>310</td></tr>",
                            "<tr><td>Fénymásoló papír DataCopy</td><td>768</td><td>768</td></tr>",
                            "<tr><td>Fénymásoló papír GetCopy</td><td>661</td><td>661</td></tr>",
                            "<tr><td>Fénymásoló papír Qconnect</td><td>661</td><td>661</td></tr>",
                            "<tr><td>férfi farmer nadrág</td><td>7172</td><td>7172</td></tr>",
                            "<tr><td>férfi ing</td><td>5723</td><td>5723</td></tr>",
                            "<tr><td>férfi ing</td><td>5900</td><td>5900</td></tr>",
                            "<tr><td>férfi szövet kabát</td><td>20000</td><td>20000</td></tr>",
                            "<tr><td>férfi szövet nadrág</td><td>10818</td><td>10818</td></tr>",
                            "<tr><td>Festékpatron BCI-3BK</td><td>568</td><td>568</td></tr>",
                            "<tr><td>Filctoll </td><td>23</td><td>23</td></tr>",
                            "<tr><td>Filctoll CD író</td><td>0</td><td>0</td></tr>",
                            "<tr><td>Filctoll document pen</td><td>252</td><td>252</td></tr>",
                            "<tr><td>Filctoll Edding 750</td><td>394</td><td>394</td></tr>",
                            "<tr><td>Filctoll Marvy alkoholos</td><td>354</td><td>354</td></tr>",
                            "<tr><td>Filctoll permanent vastag</td><td>127</td><td>127</td></tr>",
                            "<tr><td>Filctoll supra fine</td><td>41</td><td>41</td></tr>",
                            "<tr><td>Filctoll TINTEN PEN</td><td>48</td><td>48</td></tr>",
                            "<tr><td>Filctoll vastag ARTIP</td><td>69</td><td>69</td></tr>",
                            "<tr><td>Filctoll, alkoholos Centropen</td><td>103</td><td>103</td></tr>",
                            "<tr><td>Filctoll, alkoholosOHP F-M-C</td><td>93</td><td>93</td></tr>",
                            "<tr><td>Filctoll, textil Edding 4500</td><td>250</td><td>250</td></tr>",
                            "<tr><td>fiú alsó</td><td>354</td><td>354</td></tr>",
                            "<tr><td>fiú harisnya</td><td>900</td><td>900</td></tr>",
                            "<tr><td>fiú ünneplős ruha</td><td>15363</td><td>15363</td></tr>",
                            "<tr><td>fiú zokni</td><td>218</td><td>218</td></tr>",
                            "<tr><td>Fizika</td><td>612</td><td>612</td></tr>",
                            "<tr><td>Fizika 13 éveseknek</td><td>280</td><td>280</td></tr>",
                            "<tr><td>Fizika munkafüzet 13 év.</td><td>180</td><td>180</td></tr>",
                            "<tr><td>Fizika munkafüzet 14 év.</td><td>172</td><td>172</td></tr>",
                            "<tr><td>Fizikai feladatok és tévedések</td><td>294</td><td>294</td></tr>",
                            "<tr><td>Floppy lemez</td><td>46</td><td>46</td></tr>",
                            "<tr><td>Fogalmazás lépésről lépésre</td><td>313</td><td>313</td></tr>",
                            "<tr><td>Fólia tasakos A4 125 mik.</td><td>40</td><td>40</td></tr>",
                            "<tr><td>Fólia tasakos A4 80 mik.</td><td>36</td><td>36</td></tr>",
                            "<tr><td>Fólia tasakos A4100 mik.</td><td>40</td><td>40</td></tr>",
                            "<tr><td>Fotópapír A/4 fényes</td><td>27</td><td>27</td></tr>",
                            "<tr><td>Füzet  A/4 </td><td>61</td><td>61</td></tr>",
                            "<tr><td>Füzet  A4 mintás</td><td>70</td><td>70</td></tr>",
                            "<tr><td>Füzet 31-32 szótár</td><td>30</td><td>30</td></tr>",
                            "<tr><td>Füzet A/5 hangjegy 36/16</td><td>27</td><td>27</td></tr>",
                            "<tr><td>Füzet A/5, mintás</td><td>43</td><td>43</td></tr>",
                            "<tr><td>Füzet A5 1-8 osz.-ig</td><td>30</td><td>30</td></tr>",
                            "<tr><td>Füzetborító A/4 átlátszó</td><td>9</td><td>9</td></tr>",
                            "<tr><td>Füzetborító A/4 mintás</td><td>21</td><td>21</td></tr>",
                            "<tr><td>Füzetborító átlátszó A5</td><td>7</td><td>7</td></tr>",
                            "<tr><td>Füzetborító öntapadó kicsi</td><td>20</td><td>20</td></tr>",
                            "<tr><td>Füzetborító öntapadó tekercses</td><td>177</td><td>177</td></tr>",
                            "<tr><td>Füzetborító öntapadós nagy</td><td>17</td><td>17</td></tr>",
                            "<tr><td>Füzettartó A/4</td><td>294</td><td>294</td></tr>",
                            "<tr><td>Füzettartó A/4 keménytáblás</td><td>461</td><td>461</td></tr>",
                            "<tr><td>Füzettartó A/4 keménytáblás</td><td>500</td><td>500</td></tr>",
                            "<tr><td>Füzettartó A/5  </td><td>184</td><td>184</td></tr>",
                            "<tr><td>Füzettartó A/5 vastag</td><td>373</td><td>373</td></tr>",
                            "<tr><td>G. toll betét mini</td><td>27</td><td>27</td></tr>",
                            "<tr><td>G. toll betét mini fém</td><td>50</td><td>50</td></tr>",
                            "<tr><td>G. toll betét réz</td><td>27</td><td>27</td></tr>",
                            "<tr><td>G. toll betét S7S</td><td>72</td><td>72</td></tr>",
                            "<tr><td>G. toll betét UNI lachnok Fine SA-7C</td><td>77</td><td>77</td></tr>",
                            "<tr><td>G.toll betét csavaros</td><td>50</td><td>50</td></tr>",
                            "<tr><td>G.toll betét görbe hegyű</td><td>35</td><td>35</td></tr>",
                            "<tr><td>G.toll betét illatos</td><td>40</td><td>40</td></tr>",
                            "<tr><td>G.toll betét jumbo</td><td>30</td><td>30</td></tr>",
                            "<tr><td>G.toll betét Parker </td><td>621</td><td>621</td></tr>",
                            "<tr><td>G.toll betét PAX</td><td>111</td><td>111</td></tr>",
                            "<tr><td>G.toll betét PAX tip.</td><td>43</td><td>43</td></tr>",
                            "<tr><td>G.toll betét S7L </td><td>82</td><td>82</td></tr>",
                            "<tr><td>G.toll betét Stabilo</td><td>20</td><td>20</td></tr>",
                            "<tr><td>G.toll betét X20</td><td>13</td><td>13</td></tr>",
                            "<tr><td>G.toll betét Zebra F-0.7</td><td>207</td><td>207</td></tr>",
                            "<tr><td>G.toll betét Zebra H-0,7</td><td>70</td><td>70</td></tr>",
                            "<tr><td>G.toll betét Zebra K-0,7</td><td>80</td><td>80</td></tr>",
                            "<tr><td>Gemkapocs 28 mm</td><td>27</td><td>27</td></tr>",
                            "<tr><td>Gémkapocs 28-as színes</td><td>40</td><td>40</td></tr>",
                            "<tr><td>Gémkapocs 50-es</td><td>93</td><td>93</td></tr>",
                            "<tr><td>Gemkapocs ICO</td><td>43</td><td>43</td></tr>",
                            "<tr><td>Genoterm HERLITZ 10-es</td><td>80</td><td>80</td></tr>",
                            "<tr><td>Genotherm A4 10db-os</td><td>100</td><td>100</td></tr>",
                            "<tr><td>Genotherm lefűzhető A/5</td><td>7</td><td>7</td></tr>",
                            "<tr><td>Genotherm lefűzhető A4 10db-os</td><td>57</td><td>57</td></tr>",
                            "<tr><td>Golyóstoll</td><td>30</td><td>30</td></tr>",
                            "<tr><td>Golyóstoll</td><td>46</td><td>46</td></tr>",
                            "<tr><td>Golyóstoll + ceruza Twister 2in1</td><td>354</td><td>354</td></tr>",
                            "<tr><td>Golyóstoll 3 funkciós </td><td>926</td><td>926</td></tr>",
                            "<tr><td>Golyóstoll háromfunkciós</td><td>97</td><td>97</td></tr>",
                            "<tr><td>Golyóstoll háromfunkciós</td><td>100</td><td>100</td></tr>",
                            "<tr><td>Golyóstoll háromszög</td><td>170</td><td>170</td></tr>",
                            "<tr><td>Golyóstoll illatos ICO</td><td>37</td><td>37</td></tr>",
                            "<tr><td>Golyóstoll INOXCROM</td><td>364</td><td>364</td></tr>",
                            "<tr><td>Golyóstoll kétfunkciós ICO</td><td>248</td><td>248</td></tr>",
                            "<tr><td>Golyóstoll kétszínű</td><td>40</td><td>40</td></tr>",
                            "<tr><td>Golyóstoll kupakos piros</td><td>20</td><td>20</td></tr>",
                            "<tr><td>Golyóstoll levélbontós</td><td>267</td><td>267</td></tr>",
                            "<tr><td>Golyóstoll Montex Hytone</td><td>84</td><td>84</td></tr>",
                            "<tr><td>Golyóstoll Parker tokban</td><td>702</td><td>702</td></tr>",
                            "<tr><td>Golyóstoll Pax tip.</td><td>57</td><td>57</td></tr>",
                            "<tr><td>Golyóstoll penac</td><td>217</td><td>217</td></tr>",
                            "<tr><td>Golyóstoll Stabiló 308</td><td>73</td><td>73</td></tr>",
                            "<tr><td>Golyóstoll Stabilo piros</td><td>91</td><td>91</td></tr>",
                            "<tr><td>Golyóstoll UNI átlátszó</td><td>209</td><td>209</td></tr>",
                            "<tr><td>Golyóstoll UNI gumis</td><td>210</td><td>210</td></tr>",
                            "<tr><td>Golyóstoll UNI laknock</td><td>198</td><td>198</td></tr>",
                            "<tr><td>Golyóstoll UNIBALL 07</td><td>330</td><td>330</td></tr>",
                            "<tr><td>Golyóstoll Zebra 301</td><td>413</td><td>413</td></tr>",
                            "<tr><td>Golyóstoll Zebra mini</td><td>595</td><td>595</td></tr>",
                            "<tr><td>Golyóstoll Zebra new hard</td><td>171</td><td>171</td></tr>",
                            "<tr><td>Golyóstoll Zodiák</td><td>85</td><td>85</td></tr>",
                            "<tr><td>Gumigyűrű</td><td>17</td><td>17</td></tr>",
                            "<tr><td>Gumilabda közepes</td><td>97</td><td>97</td></tr>",
                            "<tr><td>Gumilabda közepes</td><td>100</td><td>100</td></tr>",
                            "<tr><td>Gumis mappa </td><td>134</td><td>134</td></tr>",
                            "<tr><td>Gumis mappa csomagolt</td><td>177</td><td>177</td></tr>",
                            "<tr><td>Gumis mappa fóliázott állatos</td><td>191</td><td>191</td></tr>",
                            "<tr><td>Gumis mappa Köbüki</td><td>173</td><td>173</td></tr>",
                            "<tr><td>gyermek cipő (fiú)</td><td>7181</td><td>7181</td></tr>",
                            "<tr><td>gyermek cipő (lány)</td><td>7181</td><td>7181</td></tr>",
                            "<tr><td>gyermek csizma (fiú)</td><td>7272</td><td>7272</td></tr>",
                            "<tr><td>gyermek csizma (lány)</td><td>7272</td><td>7272</td></tr>",
                            "<tr><td>gyermek farmer nadrág (fiú)</td><td>4536</td><td>4536</td></tr>",
                            "<tr><td>gyermek farmer nadrág (lány)</td><td>4536</td><td>4536</td></tr>",
                            "<tr><td>gyermek kabát (fiú)</td><td>8090</td><td>8090</td></tr>",
                            "<tr><td>gyermek kabát (lány)</td><td>8090</td><td>8090</td></tr>",
                            "<tr><td>gyermek pamut nadrág (fiú)</td><td>1172</td><td>1172</td></tr>",
                            "<tr><td>gyermek pamut nadrág (lány)</td><td>1172</td><td>1172</td></tr>",
                            "<tr><td>gyermek póló (fiú)</td><td>3545</td><td>3545</td></tr>",
                            "<tr><td>gyermek póló (lány)</td><td>245</td><td>245</td></tr>",
                            "<tr><td>gyermek póló (lány)</td><td>3545</td><td>3545</td></tr>",
                            "<tr><td>gyermek szandál (fiú)</td><td>6272</td><td>6272</td></tr>",
                            "<tr><td>gyermek szandál (lány)</td><td>6272</td><td>6272</td></tr>",
                            "<tr><td>Gyorsfűző dosszié fehér</td><td>16</td><td>16</td></tr>",
                            "<tr><td>Gyorsfűző műa.</td><td>27</td><td>27</td></tr>",
                            "<tr><td>Gyorsfűző műa.</td><td>31</td><td>31</td></tr>",
                            "<tr><td>Gyurma 12 szinű</td><td>146</td><td>146</td></tr>",
                            "<tr><td>Gyurma színes 200 g-os</td><td>163</td><td>163</td></tr>",
                            "<tr><td>Gyurma színes natúr</td><td>207</td><td>207</td></tr>",
                            "<tr><td>Gyurmakés</td><td>110</td><td>110</td></tr>",
                            "<tr><td>Gyűjtőlap A/4</td><td>7</td><td>7</td></tr>",
                            "<tr><td>Gyűrűskönyv</td><td>528</td><td>528</td></tr>",
                            "<tr><td>Gyűrűskönyv bet. A/4</td><td>167</td><td>167</td></tr>",
                            "<tr><td>Gyűrűskönyv bet. A/5</td><td>86</td><td>86</td></tr>",
                            "<tr><td>Gyűrűskönyv betét A/5</td><td>198</td><td>198</td></tr>",
                            "<tr><td>Gyűrűskönyv színes</td><td>635</td><td>635</td></tr>",
                            "<tr><td>Hajgumi macis</td><td>60</td><td>60</td></tr>",
                            "<tr><td>Határidő napló 2010-s</td><td>661</td><td>661</td></tr>",
                            "<tr><td>Határidő napló A/6</td><td>421</td><td>421</td></tr>",
                            "<tr><td>házt.csom.  5 ív</td><td>100</td><td>100</td></tr>",
                            "<tr><td>Hegyező gép</td><td>795</td><td>795</td></tr>",
                            "<tr><td>Hegyező műanyag dupla</td><td>27</td><td>27</td></tr>",
                            "<tr><td>Hegyező műanyag egyes</td><td>20</td><td>20</td></tr>",
                            "<tr><td>Hegyező tartályos egyes</td><td>27</td><td>27</td></tr>",
                            "<tr><td>Hegyző fém 1 lyukú</td><td>63</td><td>63</td></tr>",
                            "<tr><td>Hegyző fém 2 lyukú</td><td>163</td><td>163</td></tr>",
                            "<tr><td>Hibajav.roll.Pritt 4,2mm</td><td>721</td><td>721</td></tr>",
                            "<tr><td>Hibajavító ecsetes Aqua</td><td>168</td><td>168</td></tr>",
                            "<tr><td>Hibajavító készlet Blanco</td><td>248</td><td>248</td></tr>",
                            "<tr><td>Hibajavító Kores mini pen</td><td>252</td><td>252</td></tr>",
                            "<tr><td>Hibajavító lap </td><td>73</td><td>73</td></tr>",
                            "<tr><td>Hibajavító roller 5 mm</td><td>120</td><td>120</td></tr>",
                            "<tr><td>Hibajavító roller Pax</td><td>260</td><td>260</td></tr>",
                            "<tr><td>Hőmérő, műa.</td><td>32</td><td>32</td></tr>",
                            "<tr><td>Hurkapálca 10 db-os</td><td>20</td><td>20</td></tr>",
                            "<tr><td>Hűtőmágnes</td><td>21</td><td>21</td></tr>",
                            "<tr><td>Hűtőmágnes WD</td><td>153</td><td>153</td></tr>",
                            "<tr><td>Informatika</td><td>668</td><td>668</td></tr>",
                            "<tr><td>Írásvetítő fólia</td><td>73</td><td>73</td></tr>",
                            "<tr><td>Iratgyűjtő ESSELTE ablakos</td><td>17</td><td>17</td></tr>",
                            "<tr><td>Iratgyűjtő fehér</td><td>17</td><td>17</td></tr>",
                            "<tr><td>Iratrendező ESSELTE</td><td>220</td><td>220</td></tr>",
                            "<tr><td>Iratsín fehér</td><td>40</td><td>40</td></tr>",
                            "<tr><td>Iratsín kék</td><td>80</td><td>80</td></tr>",
                            "<tr><td>Irattartó müa. boríték A/4</td><td>60</td><td>60</td></tr>",
                            "<tr><td>irodai tűzőgép</td><td>1909</td><td>1909</td></tr>",
                            "<tr><td>Írólap 10-50 ffam.</td><td>26</td><td>26</td></tr>",
                            "<tr><td>Írólap 20-50 </td><td>30</td><td>30</td></tr>",
                            "<tr><td>Iromány fedél feles</td><td>53</td><td>53</td></tr>",
                            "<tr><td>Ironbél  2B ICO</td><td>67</td><td>67</td></tr>",
                            "<tr><td>Ironbél B 0,5</td><td>32</td><td>32</td></tr>",
                            "<tr><td>Ironbél H 0,5</td><td>53</td><td>53</td></tr>",
                            "<tr><td>Ironbél HB 0,5</td><td>20</td><td>20</td></tr>",
                            "<tr><td>Ironbél HI-POLIMER HB 0,7</td><td>70</td><td>70</td></tr>",
                            "<tr><td>iskolai csomagoló papír</td><td>134</td><td>134</td></tr>",
                            "<tr><td>Italtartó doboz</td><td>103</td><td>103</td></tr>",
                            "<tr><td>Játék autó</td><td>59</td><td>59</td></tr>",
                            "<tr><td>Játékautó Blisteres</td><td>120</td><td>120</td></tr>",
                            "<tr><td>Játékautó elemes</td><td>150</td><td>150</td></tr>",
                            "<tr><td>Játékautó mini</td><td>66</td><td>66</td></tr>",
                            "<tr><td>Jelzőkréta</td><td>43</td><td>43</td></tr>",
                            "<tr><td>Jól felkészültem-e - Fizika</td><td>264</td><td>264</td></tr>",
                            "<tr><td>Kapocskiszedő</td><td>96</td><td>96</td></tr>",
                            "<tr><td>Kártya mini Magyar</td><td>119</td><td>119</td></tr>",
                            "<tr><td>Képeslap  borítékos</td><td>30</td><td>30</td></tr>",
                            "<tr><td>Képeslap &quot;Nászajándék&quot;</td><td>167</td><td>167</td></tr>",
                            "<tr><td>Képeslap &quot;Részvét&quot;</td><td>30</td><td>30</td></tr>",
                            "<tr><td>Képeslap humoros </td><td>50</td><td>50</td></tr>",
                            "<tr><td>Képeslap humoros</td><td>80</td><td>80</td></tr>",
                            "<tr><td>Képeslap humoros borítékos</td><td>73</td><td>73</td></tr>",
                            "<tr><td>Képeslap humoros kaparós</td><td>46</td><td>46</td></tr>",
                            "<tr><td>Képeslap karácsonyi</td><td>27</td><td>27</td></tr>",
                            "<tr><td>Képeslap karácsonyi borítékos</td><td>66</td><td>66</td></tr>",
                            "<tr><td>Képeslap karácsonyi WD</td><td>13</td><td>13</td></tr>",
                            "<tr><td>Képeslap kerek</td><td>32</td><td>32</td></tr>",
                            "<tr><td>Képeslap stancolt</td><td>53</td><td>53</td></tr>",
                            "<tr><td>Képeslap stancolt szív</td><td>43</td><td>43</td></tr>",
                            "<tr><td>Képeslap virágos</td><td>12</td><td>12</td></tr>",
                            "<tr><td>Képeslap virágos +boríték</td><td>40</td><td>40</td></tr>",
                            "<tr><td>Képeslap WD +boríték</td><td>107</td><td>107</td></tr>",
                            "<tr><td>Képkirakó Dirib-darab</td><td>177</td><td>177</td></tr>",
                            "<tr><td>Kerámiatoll</td><td>67</td><td>67</td></tr>",
                            "<tr><td>Kiadási pénztárbizonylat 2×25</td><td>93</td><td>93</td></tr>",
                            "<tr><td>kosztüm (hosszú)</td><td>41818</td><td>41818</td></tr>",
                            "<tr><td>kosztüm (rövid)</td><td>35454</td><td>35454</td></tr>",
                            "<tr><td>Körző</td><td>146</td><td>146</td></tr>",
                            "<tr><td>Körző maped</td><td>220</td><td>220</td></tr>",
                            "<tr><td>Körzőhegy grafit</td><td>27</td><td>27</td></tr>",
                            "<tr><td>Kreatív A/4 120g </td><td>11</td><td>11</td></tr>",
                            "<tr><td>Kreatív A/4 300g </td><td>3</td><td>3</td></tr>",
                            "<tr><td>Krepp papír</td><td>66</td><td>66</td></tr>",
                            "<tr><td>Kulcstartó autós</td><td>104</td><td>104</td></tr>",
                            "<tr><td>Kulcstartó billiárd golyós</td><td>134</td><td>134</td></tr>",
                            "<tr><td>Kulcstartó Csőrikés</td><td>112</td><td>112</td></tr>",
                            "<tr><td>Kulcstartó figurás</td><td>93</td><td>93</td></tr>",
                            "<tr><td>Kulcstartó intarziás állatos</td><td>140</td><td>140</td></tr>",
                            "<tr><td>Kulcstartó mesefigurás</td><td>32</td><td>32</td></tr>",
                            "<tr><td>Kulcstartó nagyítós</td><td>117</td><td>117</td></tr>",
                            "<tr><td>Lakk filc Edding 750</td><td>394</td><td>394</td></tr>",
                            "<tr><td>Lampion</td><td>66</td><td>66</td></tr>",
                            "<tr><td>lány alsó</td><td>354</td><td>354</td></tr>",
                            "<tr><td>lány harisnya</td><td>873</td><td>873</td></tr>",
                            "<tr><td>lány harisnya</td><td>900</td><td>900</td></tr>",
                            "<tr><td>lány ünneplős ruha</td><td>15363</td><td>15363</td></tr>",
                            "<tr><td>lány zokni</td><td>218</td><td>218</td></tr>",
                            "<tr><td>Leckefüzet</td><td>146</td><td>146</td></tr>",
                            "<tr><td>Levélpapír A/4</td><td>13</td><td>13</td></tr>",
                            "<tr><td>Levélpapír állatos</td><td>127</td><td>127</td></tr>",
                            "<tr><td>Levélpapír sima</td><td>50</td><td>50</td></tr>",
                            "<tr><td>Levélpapír szett </td><td>67</td><td>67</td></tr>",
                            "<tr><td>Levélpapír szett</td><td>80</td><td>80</td></tr>",
                            "<tr><td>Levélpapír szett natur, mintás</td><td>93</td><td>93</td></tr>",
                            "<tr><td>Levélpapír szett virágos</td><td>153</td><td>153</td></tr>",
                            "<tr><td>Logikai készlet</td><td>117</td><td>117</td></tr>",
                            "<tr><td>Lufi formázható</td><td>13</td><td>13</td></tr>",
                            "<tr><td>Lufi hullámos</td><td>10</td><td>10</td></tr>",
                            "<tr><td>Lyukasztó BOXER</td><td>695</td><td>695</td></tr>",
                            "<tr><td>Lyukasztó EAGLE</td><td>478</td><td>478</td></tr>",
                            "<tr><td>Mappa bemutató</td><td>167</td><td>167</td></tr>",
                            "<tr><td>Mappa bőr A5</td><td>1604</td><td>1604</td></tr>",
                            "<tr><td>Mappa müa A/4</td><td>190</td><td>190</td></tr>",
                            "<tr><td>Mappa PVC villámzáras</td><td>240</td><td>240</td></tr>",
                            "<tr><td>Mappa PVC villámzáras  képes</td><td>327</td><td>327</td></tr>",
                            "<tr><td>Márványos A/4</td><td>36</td><td>36</td></tr>",
                            "<tr><td>Matematika gyakorló 2</td><td>366</td><td>366</td></tr>",
                            "<tr><td>Matematika gyakorló 3</td><td>366</td><td>366</td></tr>",
                            "<tr><td>Matematika gyakorló 4</td><td>366</td><td>366</td></tr>",
                            "<tr><td>Matrica állatos</td><td>50</td><td>50</td></tr>",
                            "<tr><td>Matrica autóra H</td><td>44</td><td>44</td></tr>",
                            "<tr><td>Matrica motoros kicsi</td><td>44</td><td>44</td></tr>",
                            "<tr><td>Matrica Stickers nagy állatos</td><td>99</td><td>99</td></tr>",
                            "<tr><td>Matrica Stickers szíves</td><td>84</td><td>84</td></tr>",
                            "<tr><td>Matrica Test ékszer tattoo</td><td>146</td><td>146</td></tr>",
                            "<tr><td>Matrica tetoválás</td><td>152</td><td>152</td></tr>",
                            "<tr><td>Matrica tetoválós kicsi</td><td>134</td><td>134</td></tr>",
                            "<tr><td>Matrica világítós </td><td>159</td><td>159</td></tr>",
                            "<tr><td>Matrica WD kicsi</td><td>50</td><td>50</td></tr>",
                            "<tr><td>Meghívó állatos</td><td>140</td><td>140</td></tr>",
                            "<tr><td>Meghívó ballagási</td><td>57</td><td>57</td></tr>",
                            "<tr><td>Meghívó borítékos</td><td>153</td><td>153</td></tr>",
                            "<tr><td>Mikulás zacskó</td><td>10</td><td>10</td></tr>",
                            "<tr><td>Miliméterpapír</td><td>7</td><td>7</td></tr>",
                            "<tr><td>Műanyag állatok</td><td>40</td><td>40</td></tr>",
                            "<tr><td>Műanyag foszforeszkáló állat</td><td>20</td><td>20</td></tr>",
                            "<tr><td>Műanyag pohár 1 dl-es</td><td>2</td><td>2</td></tr>",
                            "<tr><td>Műanyag pohár 5 cl-es</td><td>13</td><td>13</td></tr>",
                            "<tr><td>Műnyomó 300g 17,5*20</td><td>2</td><td>2</td></tr>",
                            "<tr><td>Naptár 24-es</td><td>80</td><td>80</td></tr>",
                            "<tr><td>Naptárhát kicsi</td><td>13</td><td>13</td></tr>",
                            "<tr><td>Naptárhát nagy</td><td>70</td><td>70</td></tr>",
                            "<tr><td>Névjegytartó kicsi</td><td>281</td><td>281</td></tr>",
                            "<tr><td>Notesz A/5 sima</td><td>93</td><td>93</td></tr>",
                            "<tr><td>Notesz A/5 sima spirál</td><td>80</td><td>80</td></tr>",
                            "<tr><td>Notesz A/6 College</td><td>50</td><td>50</td></tr>",
                            "<tr><td>Notesz mintás</td><td>40</td><td>40</td></tr>",
                            "<tr><td>Notesz sima spirál College</td><td>93</td><td>93</td></tr>",
                            "<tr><td>női alsó</td><td>627</td><td>627</td></tr>",
                            "<tr><td>női farmer nadrág</td><td>7536</td><td>7536</td></tr>",
                            "<tr><td>női koktélruha</td><td>29090</td><td>29090</td></tr>",
                            "<tr><td>női szövet kabát</td><td>21818</td><td>21818</td></tr>",
                            "<tr><td>Oki toner C</td><td>12954</td><td>12954</td></tr>",
                            "<tr><td>Oklevél A/4 egyszínű</td><td>43</td><td>43</td></tr>",
                            "<tr><td>Oklevél A/4 színes</td><td>50</td><td>50</td></tr>",
                            "<tr><td>Olló gyerek </td><td>120</td><td>120</td></tr>",
                            "<tr><td>Olló Tagit 18 cm-es</td><td>160</td><td>160</td></tr>",
                            "<tr><td>Olló, iskolai</td><td>146</td><td>146</td></tr>",
                            "<tr><td>Öntapadó A/4</td><td>4159</td><td>4159</td></tr>",
                            "<tr><td>Öntapadós hologramos papír A/4</td><td>53</td><td>53</td></tr>",
                            "<tr><td>Öntapadős betűk</td><td>67</td><td>67</td></tr>",
                            "<tr><td>Összefoglaló feladatgyüjtemény számtech.</td><td>713</td><td>713</td></tr>",
                            "<tr><td>Papírcenti 100 cm-es</td><td>8</td><td>8</td></tr>",
                            "<tr><td>Papízsebkendő,10db Szindy</td><td>18</td><td>18</td></tr>",
                            "<tr><td>Pausz papír A/4</td><td>13</td><td>13</td></tr>",
                            "<tr><td>Pénztárgépsz. 2 pl. nem öníró</td><td>73</td><td>73</td></tr>",
                            "<tr><td>Pénztárgépszalag 2pl SC 57.5/60</td><td>84</td><td>84</td></tr>",
                            "<tr><td>Pill.ragasztó</td><td>93</td><td>93</td></tr>",
                            "<tr><td>Pixiron  UNI</td><td>250</td><td>250</td></tr>",
                            "<tr><td>Pixiron 0,7 Handy</td><td>113</td><td>113</td></tr>",
                            "<tr><td>Pixiron Centrum</td><td>53</td><td>53</td></tr>",
                            "<tr><td>Pixiron Handy fém</td><td>120</td><td>120</td></tr>",
                            "<tr><td>Pixiron Handy műanyag</td><td>85</td><td>85</td></tr>",
                            "<tr><td>Pixiron KOH-I-NOOR</td><td>425</td><td>425</td></tr>",
                            "<tr><td>Pixiron mini </td><td>53</td><td>53</td></tr>",
                            "<tr><td>Pixiron Penac</td><td>213</td><td>213</td></tr>",
                            "<tr><td>Pixiron Pentel színes</td><td>271</td><td>271</td></tr>",
                            "<tr><td>Plüss  QX állatok</td><td>157</td><td>157</td></tr>",
                            "<tr><td>Plüss kicsi</td><td>146</td><td>146</td></tr>",
                            "<tr><td>Plüss sárkány</td><td>285</td><td>285</td></tr>",
                            "<tr><td>Post-it 51×38 100 lapos</td><td>32</td><td>32</td></tr>",
                            "<tr><td>Post-it 75×75 100 lapos</td><td>80</td><td>80</td></tr>",
                            "<tr><td>Radír gyümölcsös</td><td>36</td><td>36</td></tr>",
                            "<tr><td>Radír Koh-i-nor 40</td><td>32</td><td>32</td></tr>",
                            "<tr><td>Radír KOH-I-NOR 80</td><td>17</td><td>17</td></tr>",
                            "<tr><td>Radír Maped</td><td>40</td><td>40</td></tr>",
                            "<tr><td>Radír stabilo</td><td>40</td><td>40</td></tr>",
                            "<tr><td>Radír Tikky 30 </td><td>45</td><td>45</td></tr>",
                            "<tr><td>Radír Tikky 40 </td><td>44</td><td>44</td></tr>",
                            "<tr><td>Radírtoll betét ER100</td><td>67</td><td>67</td></tr>",
                            "<tr><td>Radírtoll betét vastag</td><td>108</td><td>108</td></tr>",
                            "<tr><td>Ragasztó 8 g Pritt</td><td>73</td><td>73</td></tr>",
                            "<tr><td>Ragasztó 9 g Pax</td><td>97</td><td>97</td></tr>",
                            "<tr><td>Ragasztó 9 g Pax</td><td>100</td><td>100</td></tr>",
                            "<tr><td>Ragasztó Gyurma</td><td>266</td><td>266</td></tr>",
                            "<tr><td>Ragasztó kenőfejes Nebuló</td><td>91</td><td>91</td></tr>",
                            "<tr><td>Ragasztó kores</td><td>80</td><td>80</td></tr>",
                            "<tr><td>Ragasztó szalag KORES </td><td>120</td><td>120</td></tr>",
                            "<tr><td>Ragasztó, Technokol 35g kék</td><td>130</td><td>130</td></tr>",
                            "<tr><td>Ragasztó, Technokol 35g piros</td><td>130</td><td>130</td></tr>",
                            "<tr><td>Ragasztószalag  TIXO</td><td>13</td><td>13</td></tr>",
                            "<tr><td>Ragasztószalag 19 mm-es</td><td>50</td><td>50</td></tr>",
                            "<tr><td>Ragasztószalag 19 mm-es SCOTCH+ tépő</td><td>387</td><td>387</td></tr>",
                            "<tr><td>Ragasztószalag nagy 12 mm</td><td>57</td><td>57</td></tr>",
                            "<tr><td>Ragasztószalag széles barna</td><td>150</td><td>150</td></tr>",
                            "<tr><td>Rágógumi Orbit</td><td>80</td><td>80</td></tr>",
                            "<tr><td>Rajzlap A/4 10db ffam.</td><td>25</td><td>25</td></tr>",
                            "<tr><td>Rajzszeg</td><td>57</td><td>57</td></tr>",
                            "<tr><td>Rajzszeg színes</td><td>96</td><td>96</td></tr>",
                            "<tr><td>RAMba zárt világ</td><td>789</td><td>789</td></tr>",
                            "<tr><td>Regiszteres füzet A4</td><td>232</td><td>232</td></tr>",
                            "<tr><td>Regiszteres füzet A5 Hightech</td><td>184</td><td>184</td></tr>",
                            "<tr><td>Rovatolt papír 20 íves</td><td>93</td><td>93</td></tr>",
                            "<tr><td>sál</td><td>1809</td><td>1809</td></tr>",
                            "<tr><td>Selyemfényű karton A/4</td><td>34</td><td>34</td></tr>",
                            "<tr><td>Sorvezető</td><td>7</td><td>7</td></tr>",
                            "<tr><td>Sp.Füzet A/4  70es</td><td>130</td><td>130</td></tr>",
                            "<tr><td>Sp.Füzet A/4  perforált, lyuk.</td><td>187</td><td>187</td></tr>",
                            "<tr><td>Sp.Füzet A/4 70-as</td><td>140</td><td>140</td></tr>",
                            "<tr><td>Sp.Füzet A/5 70-es</td><td>80</td><td>80</td></tr>",
                            "<tr><td>Spirál 1/4 </td><td>40</td><td>40</td></tr>",
                            "<tr><td>Strandlabda </td><td>323</td><td>323</td></tr>",
                            "<tr><td>Szalvéta </td><td>160</td><td>160</td></tr>",
                            "<tr><td>Szalvéta dekor</td><td>120</td><td>120</td></tr>",
                            "<tr><td>Szalvéta egyszínű</td><td>107</td><td>107</td></tr>",
                            "<tr><td>Szalvéta Goma húsvéti</td><td>159</td><td>159</td></tr>",
                            "<tr><td>Szalvéta gyűjtőknek</td><td>166</td><td>166</td></tr>",
                            "<tr><td>Szalvéta kicsi virágos</td><td>146</td><td>146</td></tr>",
                            "<tr><td>Szám.tech. kicsiknek</td><td>194</td><td>194</td></tr>",
                            "<tr><td>Számegyenes</td><td>32</td><td>32</td></tr>",
                            "<tr><td>Számológép Roxin</td><td>461</td><td>461</td></tr>",
                            "<tr><td>Számológép tudományos</td><td>1066</td><td>1066</td></tr>",
                            "<tr><td>Számolókorong</td><td>31</td><td>31</td></tr>",
                            "<tr><td>Számolópálca</td><td>55</td><td>55</td></tr>",
                            "<tr><td>Szemetes zsák 60 literes</td><td>117</td><td>117</td></tr>",
                            "<tr><td>Szilvia csomagoló</td><td>80</td><td>80</td></tr>",
                            "<tr><td>Színes A/3 160 gr IQ</td><td>10</td><td>10</td></tr>",
                            "<tr><td>Színes ceruza 12 szín</td><td>146</td><td>146</td></tr>",
                            "<tr><td>Színes ceruza 6-os</td><td>90</td><td>90</td></tr>",
                            "<tr><td>Színes karton A4</td><td>22</td><td>22</td></tr>",
                            "<tr><td>Színes másoló a/4 80g</td><td>1363</td><td>1363</td></tr>",
                            "<tr><td>Színes ofszet B/4</td><td>3</td><td>3</td></tr>",
                            "<tr><td>Színes papír I.II-IV.V-VIII-ig</td><td>39</td><td>39</td></tr>",
                            "<tr><td>Szorzótábla műanyag</td><td>40</td><td>40</td></tr>",
                            "<tr><td>Szótárfüzet Lizzy</td><td>146</td><td>146</td></tr>",
                            "<tr><td>Szögmérő 180 fokos műa.</td><td>21</td><td>21</td></tr>",
                            "<tr><td>Szögmérő papír</td><td>10</td><td>10</td></tr>",
                            "<tr><td>Szögmérő színes</td><td>7</td><td>7</td></tr>",
                            "<tr><td>Szövegkiemelő</td><td>70</td><td>70</td></tr>",
                            "<tr><td>Szövegkiemelő </td><td>84</td><td>84</td></tr>",
                            "<tr><td>Szövegkiemelő Staedtler</td><td>127</td><td>127</td></tr>",
                            "<tr><td>Szövegkiemelő vékony</td><td>80</td><td>80</td></tr>",
                            "<tr><td>Szövegkiemelő Videotip</td><td>93</td><td>93</td></tr>",
                            "<tr><td>Szövegszerkesztés</td><td>628</td><td>628</td></tr>",
                            "<tr><td>Táblafilc</td><td>575</td><td>575</td></tr>",
                            "<tr><td>Taffet papír</td><td>17</td><td>17</td></tr>",
                            "<tr><td>Talpas tasak</td><td>36</td><td>36</td></tr>",
                            "<tr><td>Tapétavágó kés</td><td>36</td><td>36</td></tr>",
                            "<tr><td>Technika cs. I-II-III-IV</td><td>52</td><td>52</td></tr>",
                            "<tr><td>Tempera szóló ezüst</td><td>87</td><td>87</td></tr>",
                            "<tr><td>Tempera szóló színes</td><td>43</td><td>43</td></tr>",
                            "<tr><td>Tenisz labda</td><td>73</td><td>73</td></tr>",
                            "<tr><td>Térképtű színes</td><td>93</td><td>93</td></tr>",
                            "<tr><td>Tintapatron /kék/</td><td>8</td><td>8</td></tr>",
                            "<tr><td>Tintapatron 30 db-os kék</td><td>327</td><td>327</td></tr>",
                            "<tr><td>Tintapatron színes</td><td>10</td><td>10</td></tr>",
                            "<tr><td>Tokos iratrendező</td><td>235</td><td>235</td></tr>",
                            "<tr><td>Toll Centropen roller</td><td>72</td><td>72</td></tr>",
                            "<tr><td>Tolltartó 1 zipzáros</td><td>661</td><td>661</td></tr>",
                            "<tr><td>Tolltartó 2 részes NG.</td><td>695</td><td>695</td></tr>",
                            "<tr><td>Tolltartó 2 zipzáros töltött</td><td>661</td><td>661</td></tr>",
                            "<tr><td>Tolltartó asztali</td><td>595</td><td>595</td></tr>",
                            "<tr><td>Tolltartó Garfield</td><td>372</td><td>372</td></tr>",
                            "<tr><td>Tolltartó hengeres </td><td>373</td><td>373</td></tr>",
                            "<tr><td>Tolltartó zipzáras</td><td>294</td><td>294</td></tr>",
                            "<tr><td>Tombola tömb</td><td>113</td><td>113</td></tr>",
                            "<tr><td>Tornazsák</td><td>464</td><td>464</td></tr>",
                            "<tr><td>Töltőtoll tinta </td><td>448</td><td>448</td></tr>",
                            "<tr><td>Tűzőgép Boxer </td><td>260</td><td>260</td></tr>",
                            "<tr><td>Tűzőgép Boxer 10</td><td>308</td><td>308</td></tr>",
                            "<tr><td>Tűzőgép EAGLE</td><td>368</td><td>368</td></tr>",
                            "<tr><td>Tűzőgép mini</td><td>398</td><td>398</td></tr>",
                            "<tr><td>Tűzőgép SAX 239</td><td>1228</td><td>1228</td></tr>",
                            "<tr><td>Tűzőkapocs 10-es</td><td>40</td><td>40</td></tr>",
                            "<tr><td>Tűzőkapocs 24/6</td><td>30</td><td>30</td></tr>",
                            "<tr><td>Vízfesték  12 színű nagy</td><td>226</td><td>226</td></tr>",
                            "<tr><td>Vízfesték 12 db-os </td><td>190</td><td>190</td></tr>",
                            "<tr><td>Vízfesték 12 színű kerek</td><td>163</td><td>163</td></tr>",
                            "<tr><td>Vízfesték 12db-os kínai</td><td>160</td><td>160</td></tr>",
                            "<tr><td>Vonalzó 15 cm-es ESSELTE</td><td>52</td><td>52</td></tr>",
                            "<tr><td>Vonalzó 16 cm-es LIZZY</td><td>27</td><td>27</td></tr>",
                            "<tr><td>Vonalzó 20 cm-es </td><td>27</td><td>27</td></tr>",
                            "<tr><td>Vonalzó 30 cm</td><td>27</td><td>27</td></tr>",
                            "<tr><td>Vonalzó 45 fokos</td><td>27</td><td>27</td></tr>",
                            "<tr><td>Vonalzó 60 fokos</td><td>30</td><td>30</td></tr>",
                            "<tr><td>Zászló papír</td><td>18</td><td>18</td></tr>",
                            "<tr><td>Zselés toll </td><td>86</td><td>86</td></tr>",
                            "<tr><td>Zselés toll MICRO</td><td>60</td><td>60</td></tr>",
                            "<tr><td>Zselés toll Muhnwa</td><td>146</td><td>146</td></tr>",
                            "<tr><td>Zseléstoll Lizzy Card</td><td>207</td><td>207</td></tr>",
                            "</table>"
                        ]
                    }
                }
            ],
            "execution_count": 30
        },
        {
            "cell_type": "markdown",
            "source": [
                "5. <span style=\"color: rgb(36, 41, 47); font-family: -apple-system, BlinkMacSystemFont, &quot;Segoe UI&quot;, Helvetica, Arial, sans-serif, &quot;Apple Color Emoji&quot;, &quot;Segoe UI Emoji&quot;; font-size: 16px;\">Készítsünk csoportot a termékek listaára alapján a következők szerint:&nbsp;<br></span> <span style=\"color: rgb(36, 41, 47); font-family: -apple-system, BlinkMacSystemFont, &quot;Segoe UI&quot;, Helvetica, Arial, sans-serif, &quot;Apple Color Emoji&quot;, &quot;Segoe UI Emoji&quot;; font-size: 16px;\">Az \"olcsó\" termékek legyenek azok, amelyek listaára 3000 alatt van.<br>&nbsp;A \"drága\" termékek legyenek az 5000 felettiek, a többi legyen \"közepes\".</span>\n",
                "\n",
                "1. Listázzuk az egyes csoportokat, és a csoportokba tartozó termékek darabszámát!\n",
                "2. A lista jelenítse meg a végösszeget is!"
            ],
            "metadata": {
                "azdata_cell_guid": "84239ca2-6b5e-49f5-9860-d44c11d6de32"
            },
            "attachments": {}
        },
        {
            "cell_type": "code",
            "source": [
                "select\r\n",
                "    case \r\n",
                "    when LISTAAR < 3000 then 'olcsó'\r\n",
                "    when LISTAAR > 5000 then 'drága'\r\n",
                "    else 'közepes'\r\n",
                "    END as 'Ár',\r\n",
                "    --IIF(GROUPING_ID(LISTAAR) = 0, 'Összesen', cast(LISTAAR as nvarchar(10))),\r\n",
                "    count(*)\r\n",
                "    \r\n",
                "from Termek\r\n",
                "GROUP by rollup (    case \r\n",
                "    when LISTAAR < 3000 then 'olcsó'\r\n",
                "    when LISTAAR > 5000 then 'drága'\r\n",
                "    else 'közepes'\r\n",
                "    END)"
            ],
            "metadata": {
                "azdata_cell_guid": "06d9a62b-9430-424b-a135-d80e675f0eb3",
                "language": "sql"
            },
            "outputs": [
                {
                    "output_type": "display_data",
                    "data": {
                        "text/html": "(4 rows affected)"
                    },
                    "metadata": {}
                },
                {
                    "output_type": "display_data",
                    "data": {
                        "text/html": "Total execution time: 00:00:00.044"
                    },
                    "metadata": {}
                },
                {
                    "output_type": "execute_result",
                    "metadata": {},
                    "execution_count": 53,
                    "data": {
                        "application/vnd.dataresource+json": {
                            "schema": {
                                "fields": [
                                    {
                                        "name": "Ár"
                                    },
                                    {
                                        "name": "(No column name)"
                                    }
                                ]
                            },
                            "data": [
                                {
                                    "Ár": "drága",
                                    "(No column name)": "20"
                                },
                                {
                                    "Ár": "közepes",
                                    "(No column name)": "5"
                                },
                                {
                                    "Ár": "olcsó",
                                    "(No column name)": "526"
                                },
                                {
                                    "Ár": "NULL",
                                    "(No column name)": "551"
                                }
                            ]
                        },
                        "text/html": [
                            "<table>",
                            "<tr><th>Ár</th><th>(No column name)</th></tr>",
                            "<tr><td>drága</td><td>20</td></tr>",
                            "<tr><td>közepes</td><td>5</td></tr>",
                            "<tr><td>olcsó</td><td>526</td></tr>",
                            "<tr><td>NULL</td><td>551</td></tr>",
                            "</table>"
                        ]
                    }
                }
            ],
            "execution_count": 53
        },
        {
            "cell_type": "markdown",
            "source": [
                "6. <span style=\"font-weight: 600; color: rgb(36, 41, 47); font-family: -apple-system, BlinkMacSystemFont, &quot;Segoe UI&quot;, Helvetica, Arial, sans-serif, &quot;Apple Color Emoji&quot;, &quot;Segoe UI Emoji&quot;; font-size: 16px;\">Készítsünk listát az ügyfelek adatairól név szerinti sorrendben.</span>\n",
                "\n",
                "1. Minden sorban jelenjen meg a sorrend szerint előző, illetve következő ügyfél neve is.\n",
                "2. Ha nincs előző vagy következő ügyfél, akkor a 'Nincs' jelenjen meg!"
            ],
            "metadata": {
                "azdata_cell_guid": "b0d15045-3c43-4f3a-b8d4-76b4f24e5546"
            },
            "attachments": {}
        },
        {
            "cell_type": "code",
            "source": [
                "SELECT*,\r\n",
                "    LAG(NEV, 1, 'Nincs előző') OVER(ORDER by NEV),\r\n",
                "    LEAD(nev, 1, 'Nincs következő') OVER(ORDER by NEV)\r\n",
                "from Ugyfel"
            ],
            "metadata": {
                "azdata_cell_guid": "f2b7400d-1255-40ac-9250-4d57f9da5357",
                "language": "sql"
            },
            "outputs": [],
            "execution_count": null
        },
        {
            "cell_type": "markdown",
            "source": [
                "7. <span style=\"font-weight: 600; color: rgb(36, 41, 47); font-family: -apple-system, BlinkMacSystemFont, &quot;Segoe UI&quot;, Helvetica, Arial, sans-serif, &quot;Apple Color Emoji&quot;, &quot;Segoe UI Emoji&quot;; font-size: 16px;\">Készítsünk lekérdezést, amely megmutatja, hogy melyik termékkategóriába hány termék tartozik. A lista a kategória nevét és a darabszámot jelenítse meg.</span>\n",
                "\n",
                "1. A lista ne tartalmazzon duplikált sorokat.\n",
                "2. A feladatot partíciók segítségével oldjuk meg!"
            ],
            "metadata": {
                "azdata_cell_guid": "7ebf7ddd-1bd2-4246-815a-be8ae37e3b5b"
            },
            "attachments": {}
        },
        {
            "cell_type": "code",
            "source": [
                "SELECT distinct tk.KAT_NEV,\r\n",
                "        tk.szulo_kat,\r\n",
                "        COUNT(*) over(partition by tk.KAT_NEV)\r\n",
                "        --avg(t.LISTAAR) over(partition by tk.KAT_NEV)\r\n",
                "from Termek t join Termekkategoria tk on t.KAT_ID = tk.KAT_ID\r\n",
                "--GROUP by tk.KAT_NEV"
            ],
            "metadata": {
                "azdata_cell_guid": "84b7e896-f36e-4985-88f5-e0f706494fef",
                "language": "sql"
            },
            "outputs": [],
            "execution_count": null
        },
        {
            "cell_type": "markdown",
            "source": [
                "8. <span style=\"font-weight: 600; color: rgb(36, 41, 47); font-family: -apple-system, BlinkMacSystemFont, &quot;Segoe UI&quot;, Helvetica, Arial, sans-serif, &quot;Apple Color Emoji&quot;, &quot;Segoe UI Emoji&quot;; font-size: 16px;\">Készítsünk listát a rendelési tételekről. Az egyes rendelési tételeket termékenként soroljuk be 4 osztályba a rendelés mennyisége alapján. Jelenítsük meg ezt az információt is egy új oszlopban, az oszlop neve legyen 'Mennyiségi kategória'.</span>\n",
                "\n",
                "1. A lista csak a 100 Ft feletti egységárú rendelési tételeket vegye figyelembe!"
            ],
            "metadata": {
                "azdata_cell_guid": "27a3d3dc-eafb-4a5e-b103-9f465b9eda8f"
            },
            "attachments": {}
        },
        {
            "cell_type": "code",
            "source": [
                "SELECT *,\r\n",
                "NTILE(4) OVER(PARTITION BY MENNYISEG order by MENNYISE) AS 'Mennyiségi kategória'\r\n",
                "FROM Rendeles_tetel\r\n",
                "where EGYSEGAR > 100"
            ],
            "metadata": {
                "azdata_cell_guid": "f09edb3f-649b-4a96-958e-9e12774ae8b7",
                "language": "sql"
            },
            "outputs": [],
            "execution_count": null
        },
        {
            "cell_type": "markdown",
            "source": [
                "9. <span style=\"font-weight: 600; color: rgb(36, 41, 47); font-family: -apple-system, BlinkMacSystemFont, &quot;Segoe UI&quot;, Helvetica, Arial, sans-serif, &quot;Apple Color Emoji&quot;, &quot;Segoe UI Emoji&quot;; font-size: 16px;\">Listázzuk a termékek kódját, megnevezését, kategóriájának nevét, és listaárát.</span>\n",
                "\n",
                "1. A listát egészítsük ki két új oszloppal, amelyek a kategória legolcsóbb, illetve legdrágább termékének árát tartalmazzák.\n",
                "2. A két új oszlop létrehozásánál partíciókkal dolgozzunk!"
            ],
            "metadata": {
                "azdata_cell_guid": "f12a331a-0e26-4d3d-9c68-812316286577"
            },
            "attachments": {}
        },
        {
            "cell_type": "code",
            "source": [
                "select Termek.TERMEKKOD, MEGNEVEZES, Termekkategoria.KAT_NEV,\r\n",
                "        FIRST_VALUE(LISTAAR) OVER (Partition BY kat_nev ORDER BY LISTAAR asc),\r\n",
                "        first_VALUE(LISTAAR) OVER (Partition BY kat_nev ORDER BY LISTAAR desc)\r\n",
                "from Termek join Termekkategoria on Termek.KAT_ID = Termekkategoria.KAT_ID"
            ],
            "metadata": {
                "azdata_cell_guid": "10a77fc9-e61a-46fc-a401-59720d82bc50",
                "language": "sql"
            },
            "outputs": [],
            "execution_count": null
        },
        {
            "cell_type": "markdown",
            "source": [
                "10. <span style=\"font-weight: 600; color: rgb(36, 41, 47); font-family: -apple-system, BlinkMacSystemFont, &quot;Segoe UI&quot;, Helvetica, Arial, sans-serif, &quot;Apple Color Emoji&quot;, &quot;Segoe UI Emoji&quot;; font-size: 16px;\">Készítsünk listát a rendelésekről. A lista legyen rendezve ügyfelenként (LOGIN), azon belül a rendelés dátuma szerint. A listához készítsünk sorszámozást is. A sorszám a következő formában jelenjen meg: sorszám_év_login. Pl: 1_2015_adam1</span>\n",
                "\n",
                "1. A számozás login-onként, azon belül rendelési évenként kezdődjön újra.\n",
                "2. A sorszám oszlop neve legyen Azonosító"
            ],
            "metadata": {
                "azdata_cell_guid": "9229e2b6-e200-4499-b95b-2d0222149831"
            },
            "attachments": {}
        },
        {
            "cell_type": "code",
            "source": [
                ""
            ],
            "metadata": {
                "azdata_cell_guid": "8b49ed67-28c6-4880-82a8-cd369e5bba99",
                "language": "sql"
            },
            "outputs": [
                {
                    "output_type": "display_data",
                    "data": {
                        "text/html": "Commands completed successfully."
                    },
                    "metadata": {}
                },
                {
                    "output_type": "display_data",
                    "data": {
                        "text/html": "Total execution time: 00:00:00"
                    },
                    "metadata": {}
                }
            ],
            "execution_count": 54
        },
        {
            "cell_type": "markdown",
            "source": [
                "11. <span style=\"color: rgb(36, 41, 47); font-family: -apple-system, BlinkMacSystemFont, &quot;Segoe UI&quot;, Helvetica, Arial, sans-serif, &quot;Apple Color Emoji&quot;, &quot;Segoe UI Emoji&quot;; font-size: 16px;\">Készítsünk listát a termékek adatairól listaár szerint növekvő sorrendben! A lista jelenítse meg két új oszlopban a sorrend szerint előző, illetve következő termék listaárát is a termék saját kategóriájában és raktárában!</span>\n",
                "\n",
                "1. Ahol nincs előző vagy következő érték, ott 0 jelenjen meg!\n",
                "2. Az oszlopokat nevezzük el értelemszerűen!"
            ],
            "metadata": {
                "azdata_cell_guid": "7f5fc7a7-3b6a-4d89-b292-490830afb0c6"
            },
            "attachments": {}
        },
        {
            "cell_type": "code",
            "source": [
                ""
            ],
            "metadata": {
                "azdata_cell_guid": "4a9ece40-f782-4c0d-92cd-9c21969067ed",
                "language": "sql"
            },
            "outputs": [],
            "execution_count": null
        },
        {
            "cell_type": "markdown",
            "source": [
                "12. <span style=\"color: rgb(36, 41, 47); font-family: -apple-system, BlinkMacSystemFont, &quot;Segoe UI&quot;, Helvetica, Arial, sans-serif, &quot;Apple Color Emoji&quot;, &quot;Segoe UI Emoji&quot;; font-size: 16px;\">Listázzuk a termékek kódját, nevét és listaárát listaár szerinti sorrendben!</span>\n",
                "\n",
                "1. Vegyünk fel egy új oszlopot Mozgóátlag néven, amely minden esetben az aktuális termék, az előző, és a következő termék átlagárát tartalmazza!\n",
                "2. A mozgóátlagot kerekítsük két tizedesre!"
            ],
            "metadata": {
                "azdata_cell_guid": "5a483c52-bb98-44bb-bd03-1146d4b0abfa"
            },
            "attachments": {}
        },
        {
            "cell_type": "code",
            "source": [
                "SELECT TERMEKKOD,\r\n",
                "        MEGNEVEZES,\r\n",
                "        LISTAAR,\r\n",
                "        --(LAG(LISTAAR) OVER(ORDER BY LISTAAR) + LISTAAR + LEAD(LISTAAR) over(order by LISTAAR)) / 3 ez bonyolult, ehelyett:\r\n",
                "        avg(LISTAAR) OVER(order by LISTAAR rows between 1 preceding and 1 following)\r\n",
                "from Termek"
            ],
            "metadata": {
                "azdata_cell_guid": "dd6e89bd-08f9-4b18-8460-03c45b503df0",
                "language": "sql"
            },
            "outputs": [],
            "execution_count": null
        },
        {
            "cell_type": "markdown",
            "source": [
                "13. <span style=\"color: rgb(36, 41, 47); font-family: -apple-system, BlinkMacSystemFont, &quot;Segoe UI&quot;, Helvetica, Arial, sans-serif, &quot;Apple Color Emoji&quot;, &quot;Segoe UI Emoji&quot;; font-size: 16px;\">Készítsünk listát, amely a rendelések sorszámát és a rendelés értékét tartalmazza. A listát egészítsük ki egy új oszloppal, amely minden rendelés esetén addigi rendelések összegét tartalmazza (az aktuálisat is beleértve)!</span>\n",
                "\n",
                "1. A listát rendezzük sorszám szerint növekvő sorrendbe.\n",
                "2. A lista ne tartalmazzon duplikált sorokat!"
            ],
            "metadata": {
                "azdata_cell_guid": "85d5cb66-96c6-42de-99cf-85ab22d08548"
            },
            "attachments": {}
        },
        {
            "cell_type": "code",
            "source": [
                ""
            ],
            "metadata": {
                "azdata_cell_guid": "cb07d64b-0eaa-498b-b4d2-0b46971e95ce",
                "language": "sql"
            },
            "outputs": [],
            "execution_count": null
        },
        {
            "cell_type": "markdown",
            "source": [
                "14. <span style=\"color: rgb(36, 41, 47); font-family: -apple-system, BlinkMacSystemFont, &quot;Segoe UI&quot;, Helvetica, Arial, sans-serif, &quot;Apple Color Emoji&quot;, &quot;Segoe UI Emoji&quot;; font-size: 16px;\">Készítsünk listát a termékek kódjáról, nevéről, kategória azonosítójáról, raktár azonosítójáról és listaáráról, valamint a termék adott szempontok szerinti rangsorokban elfoglalt helyezéseiről. (Szempontonként külön oszlopban, a helyezéseknél növekvő sorrendet feltételezve). A szempontok a következők legyenek: listaár, kategória szerinti listaár, és raktárkód szerinti listaár.</span>\n",
                "\n",
                "1. Az oszlopokat nevezzük el értelemszerűen.\n",
                "2. A helyezések egyenlőség esetén \"sűrűn\" kövessék egymást.\n",
                "3. A lista legyen rendezett kategória azonosító, azon belül listaár szerint!"
            ],
            "metadata": {
                "azdata_cell_guid": "f95ad665-a807-4099-bf06-64ed974f866f"
            },
            "attachments": {}
        },
        {
            "cell_type": "code",
            "source": [
                ""
            ],
            "metadata": {
                "azdata_cell_guid": "74c7ec8a-ae4a-4d03-b1c4-e8f6bb1be12c",
                "language": "sql"
            },
            "outputs": [],
            "execution_count": null
        },
        {
            "cell_type": "markdown",
            "source": [
                "15. <span style=\"color: rgb(36, 41, 47); font-family: -apple-system, BlinkMacSystemFont, &quot;Segoe UI&quot;, Helvetica, Arial, sans-serif, &quot;Apple Color Emoji&quot;, &quot;Segoe UI Emoji&quot;; font-size: 16px;\">Készítsünk listát a rendelési tételekről, amely minden sor esetén göngyölítve tartalmazza az ügyfél adott rendelési tételig meglévő rendelési tételeinek összértékét!</span>\n",
                "\n",
                "1. Az új oszlop neve legyen Eddigi rendelési tételek összértéke!\n",
                "2. Az ügyfél neve is jelenjen meg!"
            ],
            "metadata": {
                "azdata_cell_guid": "93552388-ffec-49ff-99e5-ae8dc8072601"
            },
            "attachments": {}
        },
        {
            "cell_type": "code",
            "source": [
                ""
            ],
            "metadata": {
                "azdata_cell_guid": "0e7f547f-7d96-4611-b1c2-0fa84a581e79",
                "language": "sql"
            },
            "outputs": [],
            "execution_count": null
        }
    ]
}